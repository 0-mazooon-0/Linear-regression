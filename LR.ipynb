{
  "cells": [
    {
      "cell_type": "code",
      "execution_count": 522,
      "metadata": {
        "id": "SQ-D7Rw2yZf6"
      },
      "outputs": [],
      "source": [
        "# Data manipulation\n",
        "import pandas as pd\n",
        "import numpy as np\n",
        "# Plots\n",
        "import matplotlib.pyplot as plt\n",
        "import seaborn as sns\n",
        "import plotly.express as px\n",
        "import plotly.graph_objects as go\n",
        "# Pre-processing and model and metrics\n",
        "from sklearn.linear_model import LinearRegression as lr\n",
        "from sklearn.linear_model import Ridge\n",
        "\n",
        "from sklearn.model_selection import  train_test_split as tts\n",
        "from sklearn.preprocessing import PolynomialFeatures\n",
        "from sklearn.preprocessing import MinMaxScaler as mms , StandardScaler as ss\n",
        "from sklearn.preprocessing import OneHotEncoder\n",
        "\n",
        "from sklearn.metrics import mean_squared_error as mse\n",
        "from sklearn.metrics import r2_score as r2\n",
        "\n",
        "import dash\n",
        "from dash import dcc, html, Input, Output\n"
      ]
    },
    {
      "cell_type": "code",
      "execution_count": 523,
      "metadata": {
        "colab": {
          "base_uri": "https://localhost:8080/",
          "height": 363
        },
        "id": "mFgO6MubydIY",
        "outputId": "e5738d0b-02d9-4a41-b06e-7bed5d4b9707"
      },
      "outputs": [
        {
          "data": {
            "text/html": [
              "<div>\n",
              "<style scoped>\n",
              "    .dataframe tbody tr th:only-of-type {\n",
              "        vertical-align: middle;\n",
              "    }\n",
              "\n",
              "    .dataframe tbody tr th {\n",
              "        vertical-align: top;\n",
              "    }\n",
              "\n",
              "    .dataframe thead th {\n",
              "        text-align: right;\n",
              "    }\n",
              "</style>\n",
              "<table border=\"1\" class=\"dataframe\">\n",
              "  <thead>\n",
              "    <tr style=\"text-align: right;\">\n",
              "      <th></th>\n",
              "      <th>price</th>\n",
              "      <th>area</th>\n",
              "      <th>bedrooms</th>\n",
              "      <th>bathrooms</th>\n",
              "      <th>stories</th>\n",
              "      <th>mainroad</th>\n",
              "      <th>guestroom</th>\n",
              "      <th>basement</th>\n",
              "      <th>hotwaterheating</th>\n",
              "      <th>airconditioning</th>\n",
              "      <th>parking</th>\n",
              "      <th>prefarea</th>\n",
              "      <th>furnishingstatus</th>\n",
              "    </tr>\n",
              "  </thead>\n",
              "  <tbody>\n",
              "    <tr>\n",
              "      <th>0</th>\n",
              "      <td>13300000</td>\n",
              "      <td>7420</td>\n",
              "      <td>4</td>\n",
              "      <td>2</td>\n",
              "      <td>3</td>\n",
              "      <td>yes</td>\n",
              "      <td>no</td>\n",
              "      <td>no</td>\n",
              "      <td>no</td>\n",
              "      <td>yes</td>\n",
              "      <td>2</td>\n",
              "      <td>yes</td>\n",
              "      <td>furnished</td>\n",
              "    </tr>\n",
              "    <tr>\n",
              "      <th>1</th>\n",
              "      <td>12250000</td>\n",
              "      <td>8960</td>\n",
              "      <td>4</td>\n",
              "      <td>4</td>\n",
              "      <td>4</td>\n",
              "      <td>yes</td>\n",
              "      <td>no</td>\n",
              "      <td>no</td>\n",
              "      <td>no</td>\n",
              "      <td>yes</td>\n",
              "      <td>3</td>\n",
              "      <td>no</td>\n",
              "      <td>furnished</td>\n",
              "    </tr>\n",
              "    <tr>\n",
              "      <th>2</th>\n",
              "      <td>12250000</td>\n",
              "      <td>9960</td>\n",
              "      <td>3</td>\n",
              "      <td>2</td>\n",
              "      <td>2</td>\n",
              "      <td>yes</td>\n",
              "      <td>no</td>\n",
              "      <td>yes</td>\n",
              "      <td>no</td>\n",
              "      <td>no</td>\n",
              "      <td>2</td>\n",
              "      <td>yes</td>\n",
              "      <td>semi-furnished</td>\n",
              "    </tr>\n",
              "    <tr>\n",
              "      <th>3</th>\n",
              "      <td>12215000</td>\n",
              "      <td>7500</td>\n",
              "      <td>4</td>\n",
              "      <td>2</td>\n",
              "      <td>2</td>\n",
              "      <td>yes</td>\n",
              "      <td>no</td>\n",
              "      <td>yes</td>\n",
              "      <td>no</td>\n",
              "      <td>yes</td>\n",
              "      <td>3</td>\n",
              "      <td>yes</td>\n",
              "      <td>furnished</td>\n",
              "    </tr>\n",
              "    <tr>\n",
              "      <th>4</th>\n",
              "      <td>11410000</td>\n",
              "      <td>7420</td>\n",
              "      <td>4</td>\n",
              "      <td>1</td>\n",
              "      <td>2</td>\n",
              "      <td>yes</td>\n",
              "      <td>yes</td>\n",
              "      <td>yes</td>\n",
              "      <td>no</td>\n",
              "      <td>yes</td>\n",
              "      <td>2</td>\n",
              "      <td>no</td>\n",
              "      <td>furnished</td>\n",
              "    </tr>\n",
              "    <tr>\n",
              "      <th>5</th>\n",
              "      <td>10850000</td>\n",
              "      <td>7500</td>\n",
              "      <td>3</td>\n",
              "      <td>3</td>\n",
              "      <td>1</td>\n",
              "      <td>yes</td>\n",
              "      <td>no</td>\n",
              "      <td>yes</td>\n",
              "      <td>no</td>\n",
              "      <td>yes</td>\n",
              "      <td>2</td>\n",
              "      <td>yes</td>\n",
              "      <td>semi-furnished</td>\n",
              "    </tr>\n",
              "    <tr>\n",
              "      <th>6</th>\n",
              "      <td>10150000</td>\n",
              "      <td>8580</td>\n",
              "      <td>4</td>\n",
              "      <td>3</td>\n",
              "      <td>4</td>\n",
              "      <td>yes</td>\n",
              "      <td>no</td>\n",
              "      <td>no</td>\n",
              "      <td>no</td>\n",
              "      <td>yes</td>\n",
              "      <td>2</td>\n",
              "      <td>yes</td>\n",
              "      <td>semi-furnished</td>\n",
              "    </tr>\n",
              "    <tr>\n",
              "      <th>7</th>\n",
              "      <td>10150000</td>\n",
              "      <td>16200</td>\n",
              "      <td>5</td>\n",
              "      <td>3</td>\n",
              "      <td>2</td>\n",
              "      <td>yes</td>\n",
              "      <td>no</td>\n",
              "      <td>no</td>\n",
              "      <td>no</td>\n",
              "      <td>no</td>\n",
              "      <td>0</td>\n",
              "      <td>no</td>\n",
              "      <td>unfurnished</td>\n",
              "    </tr>\n",
              "    <tr>\n",
              "      <th>8</th>\n",
              "      <td>9870000</td>\n",
              "      <td>8100</td>\n",
              "      <td>4</td>\n",
              "      <td>1</td>\n",
              "      <td>2</td>\n",
              "      <td>yes</td>\n",
              "      <td>yes</td>\n",
              "      <td>yes</td>\n",
              "      <td>no</td>\n",
              "      <td>yes</td>\n",
              "      <td>2</td>\n",
              "      <td>yes</td>\n",
              "      <td>furnished</td>\n",
              "    </tr>\n",
              "    <tr>\n",
              "      <th>9</th>\n",
              "      <td>9800000</td>\n",
              "      <td>5750</td>\n",
              "      <td>3</td>\n",
              "      <td>2</td>\n",
              "      <td>4</td>\n",
              "      <td>yes</td>\n",
              "      <td>yes</td>\n",
              "      <td>no</td>\n",
              "      <td>no</td>\n",
              "      <td>yes</td>\n",
              "      <td>1</td>\n",
              "      <td>yes</td>\n",
              "      <td>unfurnished</td>\n",
              "    </tr>\n",
              "  </tbody>\n",
              "</table>\n",
              "</div>"
            ],
            "text/plain": [
              "      price   area  bedrooms  bathrooms  stories mainroad guestroom basement  \\\n",
              "0  13300000   7420         4          2        3      yes        no       no   \n",
              "1  12250000   8960         4          4        4      yes        no       no   \n",
              "2  12250000   9960         3          2        2      yes        no      yes   \n",
              "3  12215000   7500         4          2        2      yes        no      yes   \n",
              "4  11410000   7420         4          1        2      yes       yes      yes   \n",
              "5  10850000   7500         3          3        1      yes        no      yes   \n",
              "6  10150000   8580         4          3        4      yes        no       no   \n",
              "7  10150000  16200         5          3        2      yes        no       no   \n",
              "8   9870000   8100         4          1        2      yes       yes      yes   \n",
              "9   9800000   5750         3          2        4      yes       yes       no   \n",
              "\n",
              "  hotwaterheating airconditioning  parking prefarea furnishingstatus  \n",
              "0              no             yes        2      yes        furnished  \n",
              "1              no             yes        3       no        furnished  \n",
              "2              no              no        2      yes   semi-furnished  \n",
              "3              no             yes        3      yes        furnished  \n",
              "4              no             yes        2       no        furnished  \n",
              "5              no             yes        2      yes   semi-furnished  \n",
              "6              no             yes        2      yes   semi-furnished  \n",
              "7              no              no        0       no      unfurnished  \n",
              "8              no             yes        2      yes        furnished  \n",
              "9              no             yes        1      yes      unfurnished  "
            ]
          },
          "execution_count": 523,
          "metadata": {},
          "output_type": "execute_result"
        }
      ],
      "source": [
        "df = pd.read_csv(r\"D:\\DEPI\\4- Machine Learning\\Session 2\\Housing.csv\")\n",
        "df.head(10)"
      ]
    },
    {
      "cell_type": "code",
      "execution_count": 524,
      "metadata": {
        "colab": {
          "base_uri": "https://localhost:8080/"
        },
        "id": "sXnq2EaSyjMc",
        "outputId": "811935ce-1684-4cc1-c0d8-3e17829f62af"
      },
      "outputs": [
        {
          "name": "stdout",
          "output_type": "stream",
          "text": [
            "<class 'pandas.core.frame.DataFrame'>\n",
            "RangeIndex: 545 entries, 0 to 544\n",
            "Data columns (total 13 columns):\n",
            " #   Column            Non-Null Count  Dtype \n",
            "---  ------            --------------  ----- \n",
            " 0   price             545 non-null    int64 \n",
            " 1   area              545 non-null    int64 \n",
            " 2   bedrooms          545 non-null    int64 \n",
            " 3   bathrooms         545 non-null    int64 \n",
            " 4   stories           545 non-null    int64 \n",
            " 5   mainroad          545 non-null    object\n",
            " 6   guestroom         545 non-null    object\n",
            " 7   basement          545 non-null    object\n",
            " 8   hotwaterheating   545 non-null    object\n",
            " 9   airconditioning   545 non-null    object\n",
            " 10  parking           545 non-null    int64 \n",
            " 11  prefarea          545 non-null    object\n",
            " 12  furnishingstatus  545 non-null    object\n",
            "dtypes: int64(6), object(7)\n",
            "memory usage: 55.5+ KB\n"
          ]
        }
      ],
      "source": [
        "df.info()"
      ]
    },
    {
      "cell_type": "code",
      "execution_count": 525,
      "metadata": {
        "colab": {
          "base_uri": "https://localhost:8080/",
          "height": 491
        },
        "id": "Y_v2Yt4Kyq1r",
        "outputId": "a9bfa346-18ec-4558-e237-947a7e4d8225"
      },
      "outputs": [
        {
          "data": {
            "text/plain": [
              "price               0\n",
              "area                0\n",
              "bedrooms            0\n",
              "bathrooms           0\n",
              "stories             0\n",
              "mainroad            0\n",
              "guestroom           0\n",
              "basement            0\n",
              "hotwaterheating     0\n",
              "airconditioning     0\n",
              "parking             0\n",
              "prefarea            0\n",
              "furnishingstatus    0\n",
              "dtype: int64"
            ]
          },
          "execution_count": 525,
          "metadata": {},
          "output_type": "execute_result"
        }
      ],
      "source": [
        "df.isnull().sum()"
      ]
    },
    {
      "cell_type": "code",
      "execution_count": 526,
      "metadata": {
        "colab": {
          "base_uri": "https://localhost:8080/",
          "height": 300
        },
        "id": "VFpxngE_ywiB",
        "outputId": "93aed256-2e14-4263-aeb3-540b9f4b9835"
      },
      "outputs": [
        {
          "data": {
            "text/html": [
              "<div>\n",
              "<style scoped>\n",
              "    .dataframe tbody tr th:only-of-type {\n",
              "        vertical-align: middle;\n",
              "    }\n",
              "\n",
              "    .dataframe tbody tr th {\n",
              "        vertical-align: top;\n",
              "    }\n",
              "\n",
              "    .dataframe thead th {\n",
              "        text-align: right;\n",
              "    }\n",
              "</style>\n",
              "<table border=\"1\" class=\"dataframe\">\n",
              "  <thead>\n",
              "    <tr style=\"text-align: right;\">\n",
              "      <th></th>\n",
              "      <th>price</th>\n",
              "      <th>area</th>\n",
              "      <th>bedrooms</th>\n",
              "      <th>bathrooms</th>\n",
              "      <th>stories</th>\n",
              "      <th>parking</th>\n",
              "    </tr>\n",
              "  </thead>\n",
              "  <tbody>\n",
              "    <tr>\n",
              "      <th>count</th>\n",
              "      <td>5.450000e+02</td>\n",
              "      <td>545.000000</td>\n",
              "      <td>545.000000</td>\n",
              "      <td>545.000000</td>\n",
              "      <td>545.000000</td>\n",
              "      <td>545.000000</td>\n",
              "    </tr>\n",
              "    <tr>\n",
              "      <th>mean</th>\n",
              "      <td>4.766729e+06</td>\n",
              "      <td>5150.541284</td>\n",
              "      <td>2.965138</td>\n",
              "      <td>1.286239</td>\n",
              "      <td>1.805505</td>\n",
              "      <td>0.693578</td>\n",
              "    </tr>\n",
              "    <tr>\n",
              "      <th>std</th>\n",
              "      <td>1.870440e+06</td>\n",
              "      <td>2170.141023</td>\n",
              "      <td>0.738064</td>\n",
              "      <td>0.502470</td>\n",
              "      <td>0.867492</td>\n",
              "      <td>0.861586</td>\n",
              "    </tr>\n",
              "    <tr>\n",
              "      <th>min</th>\n",
              "      <td>1.750000e+06</td>\n",
              "      <td>1650.000000</td>\n",
              "      <td>1.000000</td>\n",
              "      <td>1.000000</td>\n",
              "      <td>1.000000</td>\n",
              "      <td>0.000000</td>\n",
              "    </tr>\n",
              "    <tr>\n",
              "      <th>25%</th>\n",
              "      <td>3.430000e+06</td>\n",
              "      <td>3600.000000</td>\n",
              "      <td>2.000000</td>\n",
              "      <td>1.000000</td>\n",
              "      <td>1.000000</td>\n",
              "      <td>0.000000</td>\n",
              "    </tr>\n",
              "    <tr>\n",
              "      <th>50%</th>\n",
              "      <td>4.340000e+06</td>\n",
              "      <td>4600.000000</td>\n",
              "      <td>3.000000</td>\n",
              "      <td>1.000000</td>\n",
              "      <td>2.000000</td>\n",
              "      <td>0.000000</td>\n",
              "    </tr>\n",
              "    <tr>\n",
              "      <th>75%</th>\n",
              "      <td>5.740000e+06</td>\n",
              "      <td>6360.000000</td>\n",
              "      <td>3.000000</td>\n",
              "      <td>2.000000</td>\n",
              "      <td>2.000000</td>\n",
              "      <td>1.000000</td>\n",
              "    </tr>\n",
              "    <tr>\n",
              "      <th>max</th>\n",
              "      <td>1.330000e+07</td>\n",
              "      <td>16200.000000</td>\n",
              "      <td>6.000000</td>\n",
              "      <td>4.000000</td>\n",
              "      <td>4.000000</td>\n",
              "      <td>3.000000</td>\n",
              "    </tr>\n",
              "  </tbody>\n",
              "</table>\n",
              "</div>"
            ],
            "text/plain": [
              "              price          area    bedrooms   bathrooms     stories  \\\n",
              "count  5.450000e+02    545.000000  545.000000  545.000000  545.000000   \n",
              "mean   4.766729e+06   5150.541284    2.965138    1.286239    1.805505   \n",
              "std    1.870440e+06   2170.141023    0.738064    0.502470    0.867492   \n",
              "min    1.750000e+06   1650.000000    1.000000    1.000000    1.000000   \n",
              "25%    3.430000e+06   3600.000000    2.000000    1.000000    1.000000   \n",
              "50%    4.340000e+06   4600.000000    3.000000    1.000000    2.000000   \n",
              "75%    5.740000e+06   6360.000000    3.000000    2.000000    2.000000   \n",
              "max    1.330000e+07  16200.000000    6.000000    4.000000    4.000000   \n",
              "\n",
              "          parking  \n",
              "count  545.000000  \n",
              "mean     0.693578  \n",
              "std      0.861586  \n",
              "min      0.000000  \n",
              "25%      0.000000  \n",
              "50%      0.000000  \n",
              "75%      1.000000  \n",
              "max      3.000000  "
            ]
          },
          "execution_count": 526,
          "metadata": {},
          "output_type": "execute_result"
        }
      ],
      "source": [
        "df.describe()"
      ]
    },
    {
      "cell_type": "code",
      "execution_count": 527,
      "metadata": {},
      "outputs": [
        {
          "name": "stdout",
          "output_type": "stream",
          "text": [
            "price [1750000, 1767150, 1820000, 1855000, 1890000, 1960000, 2100000, 2135000, 2233000, 2240000, 2275000, 2310000, 2345000, 2380000, 2408000, 2450000, 2485000, 2520000, 2590000, 2604000, 2653000, 2660000, 2695000, 2730000, 2800000, 2835000, 2852500, 2870000, 2940000, 2961000, 2975000, 3003000, 3010000, 3045000, 3080000, 3087000, 3115000, 3118850, 3129000, 3143000, 3150000, 3220000, 3234000, 3255000, 3290000, 3325000, 3332000, 3353000, 3360000, 3395000, 3423000, 3430000, 3465000, 3493000, 3500000, 3535000, 3570000, 3605000, 3633000, 3640000, 3675000, 3703000, 3710000, 3745000, 3773000, 3780000, 3815000, 3836000, 3850000, 3885000, 3920000, 3990000, 4007500, 4025000, 4060000, 4095000, 4098500, 4123000, 4130000, 4165000, 4193000, 4200000, 4235000, 4270000, 4277000, 4305000, 4319000, 4340000, 4375000, 4382000, 4403000, 4410000, 4445000, 4473000, 4480000, 4515000, 4543000, 4550000, 4585000, 4613000, 4620000, 4655000, 4690000, 4753000, 4760000, 4767000, 4795000, 4830000, 4865000, 4893000, 4900000, 4907000, 4935000, 4956000, 4970000, 5005000, 5033000, 5040000, 5075000, 5110000, 5145000, 5215000, 5229000, 5243000, 5250000, 5285000, 5320000, 5383000, 5390000, 5425000, 5460000, 5495000, 5523000, 5530000, 5565000, 5600000, 5652500, 5740000, 5775000, 5803000, 5810000, 5866000, 5873000, 5880000, 5943000, 5950000, 6020000, 6083000, 6090000, 6107500, 6125000, 6160000, 6195000, 6230000, 6265000, 6293000, 6300000, 6405000, 6419000, 6440000, 6475000, 6510000, 6580000, 6615000, 6629000, 6650000, 6685000, 6720000, 6755000, 6790000, 6860000, 6895000, 6930000, 7000000, 7035000, 7070000, 7140000, 7210000, 7245000, 7343000, 7350000, 7420000, 7455000, 7490000, 7525000, 7560000, 7700000, 7840000, 7875000, 7910000, 7962500, 7980000, 8043000, 8080940, 8120000, 8190000, 8295000, 8400000, 8463000, 8540000, 8575000, 8645000, 8680000, 8750000, 8855000, 8890000, 8960000, 9100000, 9240000, 9310000, 9681000, 9800000, 9870000, 10150000, 10850000, 11410000, 12215000, 12250000, 13300000]\n",
            "area [1650, 1700, 1836, 1905, 1950, 2000, 2015, 2135, 2145, 2160, 2175, 2176, 2275, 2325, 2398, 2400, 2430, 2475, 2500, 2520, 2550, 2610, 2640, 2650, 2684, 2700, 2747, 2787, 2800, 2817, 2835, 2850, 2856, 2870, 2880, 2910, 2953, 2970, 2990, 3000, 3036, 3040, 3060, 3069, 3090, 3100, 3120, 3150, 3162, 3180, 3185, 3210, 3240, 3264, 3290, 3300, 3350, 3360, 3400, 3410, 3420, 3450, 3460, 3480, 3500, 3510, 3512, 3520, 3540, 3570, 3584, 3600, 3620, 3630, 3635, 3640, 3649, 3650, 3660, 3680, 3700, 3720, 3745, 3750, 3760, 3780, 3792, 3800, 3816, 3840, 3850, 3880, 3900, 3930, 3934, 3960, 3968, 3970, 3986, 3990, 4000, 4032, 4040, 4046, 4050, 4075, 4079, 4080, 4095, 4100, 4120, 4130, 4160, 4200, 4240, 4260, 4280, 4300, 4320, 4340, 4350, 4352, 4360, 4370, 4400, 4410, 4500, 4510, 4520, 4560, 4600, 4632, 4640, 4646, 4700, 4750, 4770, 4775, 4785, 4800, 4815, 4820, 4840, 4880, 4900, 4920, 4950, 4960, 4990, 4992, 4995, 5000, 5010, 5020, 5040, 5076, 5136, 5150, 5170, 5200, 5300, 5320, 5360, 5400, 5450, 5495, 5500, 5600, 5640, 5680, 5700, 5720, 5750, 5800, 5828, 5830, 5850, 5880, 5885, 5900, 5948, 5960, 5985, 6000, 6020, 6040, 6050, 6060, 6100, 6210, 6240, 6254, 6300, 6321, 6325, 6350, 6360, 6400, 6420, 6440, 6450, 6480, 6500, 6525, 6540, 6550, 6600, 6615, 6650, 6660, 6670, 6710, 6720, 6750, 6800, 6825, 6840, 6862, 6900, 6930, 7000, 7020, 7085, 7152, 7155, 7160, 7200, 7231, 7260, 7320, 7350, 7410, 7420, 7424, 7440, 7475, 7482, 7500, 7600, 7680, 7686, 7700, 7770, 7800, 7950, 7980, 8000, 8050, 8080, 8100, 8150, 8250, 8372, 8400, 8500, 8520, 8580, 8800, 8875, 8880, 8960, 9000, 9166, 9500, 9620, 9667, 9800, 9860, 9960, 10240, 10269, 10360, 10500, 10700, 11175, 11410, 11440, 11460, 12090, 12900, 12944, 13200, 15600, 16200]\n",
            "bedrooms [1, 2, 3, 4, 5, 6]\n",
            "bathrooms [1, 2, 3, 4]\n",
            "stories [1, 2, 3, 4]\n",
            "mainroad ['no', 'yes']\n",
            "guestroom ['no', 'yes']\n",
            "basement ['no', 'yes']\n",
            "hotwaterheating ['no', 'yes']\n",
            "airconditioning ['no', 'yes']\n",
            "parking [0, 1, 2, 3]\n",
            "prefarea ['no', 'yes']\n",
            "furnishingstatus ['furnished', 'semi-furnished', 'unfurnished']\n"
          ]
        }
      ],
      "source": [
        "for x in df.columns:\n",
        "    print(x, sorted(df[x].unique()))"
      ]
    },
    {
      "cell_type": "code",
      "execution_count": 528,
      "metadata": {
        "colab": {
          "base_uri": "https://localhost:8080/",
          "height": 489
        },
        "id": "dqNySZk9y30H",
        "outputId": "b8f3af3d-ce89-46e4-be36-5acfa89aaab6"
      },
      "outputs": [
        {
          "data": {
            "text/plain": [
              "area\n",
              "2398      1\n",
              "10240     1\n",
              "7770      1\n",
              "11460     1\n",
              "9620      1\n",
              "         ..\n",
              "5500      9\n",
              "4000     11\n",
              "4500     13\n",
              "3000     14\n",
              "6000     24\n",
              "Name: count, Length: 284, dtype: int64"
            ]
          },
          "execution_count": 528,
          "metadata": {},
          "output_type": "execute_result"
        }
      ],
      "source": [
        "df[\"area\"].value_counts().sort_values()"
      ]
    },
    {
      "cell_type": "code",
      "execution_count": 529,
      "metadata": {},
      "outputs": [
        {
          "data": {
            "text/plain": [
              "price\n",
              "13300000     1\n",
              "1855000      1\n",
              "12215000     1\n",
              "1960000      1\n",
              "11410000     1\n",
              "            ..\n",
              "5600000      9\n",
              "3150000      9\n",
              "4900000     12\n",
              "4200000     17\n",
              "3500000     17\n",
              "Name: count, Length: 219, dtype: int64"
            ]
          },
          "execution_count": 529,
          "metadata": {},
          "output_type": "execute_result"
        }
      ],
      "source": [
        "df[\"price\"].value_counts().sort_values()"
      ]
    },
    {
      "cell_type": "code",
      "execution_count": 530,
      "metadata": {
        "colab": {
          "base_uri": "https://localhost:8080/",
          "height": 449
        },
        "id": "qvpCc0eFz9tn",
        "outputId": "79a7bc3f-e22b-402c-d536-b988c52e0657"
      },
      "outputs": [
        {
          "name": "stderr",
          "output_type": "stream",
          "text": [
            "d:\\ElAnaconda\\Lib\\site-packages\\seaborn\\_oldcore.py:1119: FutureWarning:\n",
            "\n",
            "use_inf_as_na option is deprecated and will be removed in a future version. Convert inf values to NaN before operating instead.\n",
            "\n"
          ]
        },
        {
          "data": {
            "image/png": "[encoded data removed]",
            "text/plain": [
              "<Figure size 640x480 with 1 Axes>"
            ]
          },
          "metadata": {},
          "output_type": "display_data"
        }
      ],
      "source": [
        "sns.histplot(df['area'], kde = True)\n",
        "plt.show()"
      ]
    },
    {
      "cell_type": "code",
      "execution_count": 531,
      "metadata": {
        "colab": {
          "base_uri": "https://localhost:8080/",
          "height": 449
        },
        "id": "duJYGtsG2vpr",
        "outputId": "6d8001af-dfb7-4d56-a393-ead238ed2354"
      },
      "outputs": [
        {
          "name": "stderr",
          "output_type": "stream",
          "text": [
            "d:\\ElAnaconda\\Lib\\site-packages\\seaborn\\_oldcore.py:1119: FutureWarning:\n",
            "\n",
            "use_inf_as_na option is deprecated and will be removed in a future version. Convert inf values to NaN before operating instead.\n",
            "\n"
          ]
        },
        {
          "data": {
            "image/png": "[encoded data removed]",
            "text/plain": [
              "<Figure size 640x480 with 1 Axes>"
            ]
          },
          "metadata": {},
          "output_type": "display_data"
        }
      ],
      "source": [
        "sns.histplot(df['price'], kde = True)\n",
        "plt.show()"
      ]
    },
    {
      "cell_type": "code",
      "execution_count": 532,
      "metadata": {
        "colab": {
          "base_uri": "https://localhost:8080/",
          "height": 449
        },
        "id": "KDN48dP325y_",
        "outputId": "d6621f5e-a969-46e3-995b-c940bc7f1f80"
      },
      "outputs": [
        {
          "name": "stderr",
          "output_type": "stream",
          "text": [
            "d:\\ElAnaconda\\Lib\\site-packages\\seaborn\\_oldcore.py:1119: FutureWarning:\n",
            "\n",
            "use_inf_as_na option is deprecated and will be removed in a future version. Convert inf values to NaN before operating instead.\n",
            "\n"
          ]
        },
        {
          "data": {
            "image/png": "[encoded data removed]",
            "text/plain": [
              "<Figure size 640x480 with 1 Axes>"
            ]
          },
          "metadata": {},
          "output_type": "display_data"
        }
      ],
      "source": [
        "sns.histplot(df['bedrooms'])\n",
        "plt.show()"
      ]
    },
    {
      "cell_type": "code",
      "execution_count": 533,
      "metadata": {
        "colab": {
          "base_uri": "https://localhost:8080/",
          "height": 449
        },
        "id": "rz_e-U-k2-kR",
        "outputId": "50e1eac3-cff0-4f2d-94fe-e479c245eb11"
      },
      "outputs": [
        {
          "name": "stderr",
          "output_type": "stream",
          "text": [
            "d:\\ElAnaconda\\Lib\\site-packages\\seaborn\\_oldcore.py:1119: FutureWarning:\n",
            "\n",
            "use_inf_as_na option is deprecated and will be removed in a future version. Convert inf values to NaN before operating instead.\n",
            "\n"
          ]
        },
        {
          "data": {
            "image/png": "[encoded data removed]",
            "text/plain": [
              "<Figure size 640x480 with 1 Axes>"
            ]
          },
          "metadata": {},
          "output_type": "display_data"
        }
      ],
      "source": [
        "sns.histplot(df['bathrooms'])\n",
        "plt.show()"
      ]
    },
    {
      "cell_type": "code",
      "execution_count": 534,
      "metadata": {
        "colab": {
          "base_uri": "https://localhost:8080/",
          "height": 449
        },
        "id": "mHCOAuCB3Cz6",
        "outputId": "647943ed-8d33-4c52-e397-3df7d90c171b"
      },
      "outputs": [
        {
          "name": "stderr",
          "output_type": "stream",
          "text": [
            "d:\\ElAnaconda\\Lib\\site-packages\\seaborn\\_oldcore.py:1119: FutureWarning:\n",
            "\n",
            "use_inf_as_na option is deprecated and will be removed in a future version. Convert inf values to NaN before operating instead.\n",
            "\n"
          ]
        },
        {
          "data": {
            "image/png": "[encoded data removed]",
            "text/plain": [
              "<Figure size 640x480 with 1 Axes>"
            ]
          },
          "metadata": {},
          "output_type": "display_data"
        }
      ],
      "source": [
        "sns.histplot(df['stories'])\n",
        "plt.show()"
      ]
    },
    {
      "cell_type": "code",
      "execution_count": 535,
      "metadata": {
        "colab": {
          "base_uri": "https://localhost:8080/",
          "height": 449
        },
        "id": "KVWhenJA3ZrA",
        "outputId": "4b0c1544-e8da-4048-83dd-41c5edaa1323"
      },
      "outputs": [
        {
          "name": "stderr",
          "output_type": "stream",
          "text": [
            "d:\\ElAnaconda\\Lib\\site-packages\\seaborn\\_oldcore.py:1119: FutureWarning:\n",
            "\n",
            "use_inf_as_na option is deprecated and will be removed in a future version. Convert inf values to NaN before operating instead.\n",
            "\n"
          ]
        },
        {
          "data": {
            "image/png": "[encoded data removed]",
            "text/plain": [
              "<Figure size 640x480 with 1 Axes>"
            ]
          },
          "metadata": {},
          "output_type": "display_data"
        }
      ],
      "source": [
        "sns.histplot(df['parking'])\n",
        "plt.show()"
      ]
    },
    {
      "cell_type": "code",
      "execution_count": 536,
      "metadata": {
        "colab": {
          "base_uri": "https://localhost:8080/",
          "height": 428
        },
        "id": "VrbM_dYF3hOy",
        "outputId": "fc46d5a5-f118-46af-a3be-f13e24606c89"
      },
      "outputs": [
        {
          "data": {
            "image/png": "[encoded data removed]",
            "text/plain": [
              "<Figure size 640x480 with 1 Axes>"
            ]
          },
          "metadata": {},
          "output_type": "display_data"
        }
      ],
      "source": [
        "pie_chart = df['mainroad'].value_counts()\n",
        "plt.pie(\n",
        "    pie_chart,\n",
        "    labels=pie_chart.index,\n",
        "    autopct='%1.1f%%',\n",
        "    startangle=90,\n",
        "\n",
        ")\n",
        "\n",
        "plt.title(\"Distribution of mainroad\")\n",
        "plt.show()"
      ]
    },
    {
      "cell_type": "code",
      "execution_count": 537,
      "metadata": {
        "colab": {
          "base_uri": "https://localhost:8080/",
          "height": 428
        },
        "id": "LZC86cx8316n",
        "outputId": "75f627a6-d7dc-438c-a49d-9ff2a7c37903"
      },
      "outputs": [
        {
          "data": {
            "image/png": "[encoded data removed]",
            "text/plain": [
              "<Figure size 640x480 with 1 Axes>"
            ]
          },
          "metadata": {},
          "output_type": "display_data"
        }
      ],
      "source": [
        "pie_chart = df['guestroom'].value_counts()\n",
        "\n",
        "\n",
        "plt.pie(\n",
        "    pie_chart,\n",
        "    labels=pie_chart.index,\n",
        "    autopct='%1.1f%%',\n",
        "    startangle=90,\n",
        ")\n",
        "\n",
        "plt.title(\"Distribution of guestroom\")\n",
        "plt.show()"
      ]
    },
    {
      "cell_type": "code",
      "execution_count": 538,
      "metadata": {
        "colab": {
          "base_uri": "https://localhost:8080/",
          "height": 428
        },
        "id": "deBERZTx39BZ",
        "outputId": "4e71d3ae-1a74-48b1-a6f9-59cee28513f8"
      },
      "outputs": [
        {
          "data": {
            "image/png": "[encoded data removed]",
            "text/plain": [
              "<Figure size 640x480 with 1 Axes>"
            ]
          },
          "metadata": {},
          "output_type": "display_data"
        }
      ],
      "source": [
        "pie_chart = df['basement'].value_counts()\n",
        "\n",
        "\n",
        "plt.pie(\n",
        "    pie_chart,\n",
        "    labels=pie_chart.index,\n",
        "    autopct='%1.1f%%',\n",
        "    startangle=90,\n",
        ")\n",
        "\n",
        "plt.title(\"Distribution of basement\")\n",
        "plt.show()"
      ]
    },
    {
      "cell_type": "code",
      "execution_count": 539,
      "metadata": {
        "colab": {
          "base_uri": "https://localhost:8080/",
          "height": 428
        },
        "id": "s5GQGLri4BRF",
        "outputId": "959a6885-3ca8-47dd-c0ac-c0d511cccb84"
      },
      "outputs": [
        {
          "data": {
            "image/png": "[encoded data removed]",
            "text/plain": [
              "<Figure size 640x480 with 1 Axes>"
            ]
          },
          "metadata": {},
          "output_type": "display_data"
        }
      ],
      "source": [
        "pie_chart = df['hotwaterheating'].value_counts()\n",
        "\n",
        "\n",
        "plt.pie(\n",
        "    pie_chart,\n",
        "    labels=pie_chart.index,\n",
        "    autopct='%1.1f%%',\n",
        "    startangle=90,\n",
        ")\n",
        "\n",
        "plt.title(\"Distribution of hotwaterheating\")\n",
        "plt.show()"
      ]
    },
    {
      "cell_type": "code",
      "execution_count": 540,
      "metadata": {
        "colab": {
          "base_uri": "https://localhost:8080/",
          "height": 428
        },
        "id": "kyIEZY7c4B5p",
        "outputId": "c18d5e1d-ef0b-43a4-a175-e34629f68ecd"
      },
      "outputs": [
        {
          "data": {
            "image/png": "[encoded data removed]",
            "text/plain": [
              "<Figure size 640x480 with 1 Axes>"
            ]
          },
          "metadata": {},
          "output_type": "display_data"
        }
      ],
      "source": [
        "pie_chart = df['airconditioning'].value_counts()\n",
        "\n",
        "\n",
        "plt.pie(\n",
        "    pie_chart,\n",
        "    labels=pie_chart.index,\n",
        "    autopct='%1.1f%%',\n",
        "    startangle=90,\n",
        ")\n",
        "\n",
        "plt.title(\"Distribution of airconditioning\")\n",
        "plt.show()"
      ]
    },
    {
      "cell_type": "code",
      "execution_count": 541,
      "metadata": {
        "colab": {
          "base_uri": "https://localhost:8080/",
          "height": 428
        },
        "id": "3-3lF48o4CnK",
        "outputId": "531ad94a-b7f8-4e74-a7fd-5499f2b1222a"
      },
      "outputs": [
        {
          "data": {
            "image/png": "[encoded data removed]",
            "text/plain": [
              "<Figure size 640x480 with 1 Axes>"
            ]
          },
          "metadata": {},
          "output_type": "display_data"
        }
      ],
      "source": [
        "pie_chart = df['prefarea'].value_counts()\n",
        "\n",
        "\n",
        "plt.pie(\n",
        "    pie_chart,\n",
        "    labels=pie_chart.index,\n",
        "    autopct='%1.1f%%',\n",
        "    startangle=90,\n",
        ")\n",
        "\n",
        "plt.title(\"Distribution of prefarea\")\n",
        "plt.show()"
      ]
    },
    {
      "cell_type": "code",
      "execution_count": 542,
      "metadata": {
        "colab": {
          "base_uri": "https://localhost:8080/",
          "height": 428
        },
        "id": "fanGxgvk4Dge",
        "outputId": "70daf14c-3104-4935-d4d8-ca16075ba9cd"
      },
      "outputs": [
        {
          "data": {
            "image/png": "[encoded data removed]",
            "text/plain": [
              "<Figure size 640x480 with 1 Axes>"
            ]
          },
          "metadata": {},
          "output_type": "display_data"
        }
      ],
      "source": [
        "pie_chart = df['furnishingstatus'].value_counts()\n",
        "\n",
        "\n",
        "plt.pie(\n",
        "    pie_chart,\n",
        "    labels=pie_chart.index,\n",
        "    autopct='%1.1f%%',\n",
        "    startangle=90,\n",
        ")\n",
        "\n",
        "plt.title(\"Distribution of furnishingstatus\")\n",
        "plt.show()"
      ]
    },
    {
      "cell_type": "code",
      "execution_count": 543,
      "metadata": {},
      "outputs": [],
      "source": [
        "area_hist = px.histogram(df['area'])\n",
        "price_hist = px.histogram(df['price'])\n",
        "bedrooms_hist = px.histogram(df['bedrooms'])\n",
        "bathrooms_hist = px.histogram(df['bathrooms'])\n",
        "stories_hist = px.histogram(df['stories'])\n",
        "parking_hist = px.histogram(df['parking'])"
      ]
    },
    {
      "cell_type": "markdown",
      "metadata": {},
      "source": [
        "# Pre-processing"
      ]
    },
    {
      "cell_type": "code",
      "execution_count": 544,
      "metadata": {},
      "outputs": [
        {
          "name": "stdout",
          "output_type": "stream",
          "text": [
            "mainroad ['no', 'yes']\n",
            "guestroom ['no', 'yes']\n",
            "basement ['no', 'yes']\n",
            "hotwaterheating ['no', 'yes']\n",
            "airconditioning ['no', 'yes']\n",
            "prefarea ['no', 'yes']\n",
            "furnishingstatus ['furnished', 'semi-furnished', 'unfurnished']\n"
          ]
        }
      ],
      "source": [
        "for x in df.columns:\n",
        "    try:\n",
        "        vals = [int(xx) for xx in df[x].unique()]\n",
        "    except:\n",
        "        print(x, sorted(df[x].unique()))"
      ]
    },
    {
      "cell_type": "code",
      "execution_count": 545,
      "metadata": {
        "id": "9bHHVT1y69-3"
      },
      "outputs": [],
      "source": [
        "df[\"furnishingstatus\"] = df[\"furnishingstatus\"].map({'unfurnished': 0, 'semi-furnished': 1,\"furnished\":2})"
      ]
    },
    {
      "cell_type": "code",
      "execution_count": 546,
      "metadata": {
        "colab": {
          "base_uri": "https://localhost:8080/",
          "height": 206
        },
        "id": "l4Fsuy4S4cTz",
        "outputId": "8e1e81fb-9672-40c9-d63c-172aa41b60be"
      },
      "outputs": [],
      "source": [
        "encode_col=['mainroad','guestroom','basement','hotwaterheating','airconditioning','prefarea']\n",
        "for col in encode_col:\n",
        "    df[col] = df[col].map({'yes': 1, 'no': 0})"
      ]
    },
    {
      "cell_type": "code",
      "execution_count": 548,
      "metadata": {
        "colab": {
          "base_uri": "https://localhost:8080/",
          "height": 206
        },
        "id": "rZSwdtl07VTe",
        "outputId": "d41bc5b2-93ce-4430-f4c8-8766067d4b88"
      },
      "outputs": [
        {
          "data": {
            "text/html": [
              "<div>\n",
              "<style scoped>\n",
              "    .dataframe tbody tr th:only-of-type {\n",
              "        vertical-align: middle;\n",
              "    }\n",
              "\n",
              "    .dataframe tbody tr th {\n",
              "        vertical-align: top;\n",
              "    }\n",
              "\n",
              "    .dataframe thead th {\n",
              "        text-align: right;\n",
              "    }\n",
              "</style>\n",
              "<table border=\"1\" class=\"dataframe\">\n",
              "  <thead>\n",
              "    <tr style=\"text-align: right;\">\n",
              "      <th></th>\n",
              "      <th>price</th>\n",
              "      <th>area</th>\n",
              "      <th>bedrooms</th>\n",
              "      <th>bathrooms</th>\n",
              "      <th>stories</th>\n",
              "      <th>mainroad</th>\n",
              "      <th>guestroom</th>\n",
              "      <th>basement</th>\n",
              "      <th>hotwaterheating</th>\n",
              "      <th>airconditioning</th>\n",
              "      <th>parking</th>\n",
              "      <th>prefarea</th>\n",
              "      <th>furnishingstatus</th>\n",
              "    </tr>\n",
              "  </thead>\n",
              "  <tbody>\n",
              "    <tr>\n",
              "      <th>0</th>\n",
              "      <td>13300000</td>\n",
              "      <td>7420</td>\n",
              "      <td>4</td>\n",
              "      <td>2</td>\n",
              "      <td>3</td>\n",
              "      <td>1</td>\n",
              "      <td>0</td>\n",
              "      <td>0</td>\n",
              "      <td>0</td>\n",
              "      <td>1</td>\n",
              "      <td>2</td>\n",
              "      <td>1</td>\n",
              "      <td>2</td>\n",
              "    </tr>\n",
              "    <tr>\n",
              "      <th>1</th>\n",
              "      <td>12250000</td>\n",
              "      <td>8960</td>\n",
              "      <td>4</td>\n",
              "      <td>4</td>\n",
              "      <td>4</td>\n",
              "      <td>1</td>\n",
              "      <td>0</td>\n",
              "      <td>0</td>\n",
              "      <td>0</td>\n",
              "      <td>1</td>\n",
              "      <td>3</td>\n",
              "      <td>0</td>\n",
              "      <td>2</td>\n",
              "    </tr>\n",
              "    <tr>\n",
              "      <th>2</th>\n",
              "      <td>12250000</td>\n",
              "      <td>9960</td>\n",
              "      <td>3</td>\n",
              "      <td>2</td>\n",
              "      <td>2</td>\n",
              "      <td>1</td>\n",
              "      <td>0</td>\n",
              "      <td>1</td>\n",
              "      <td>0</td>\n",
              "      <td>0</td>\n",
              "      <td>2</td>\n",
              "      <td>1</td>\n",
              "      <td>1</td>\n",
              "    </tr>\n",
              "    <tr>\n",
              "      <th>3</th>\n",
              "      <td>12215000</td>\n",
              "      <td>7500</td>\n",
              "      <td>4</td>\n",
              "      <td>2</td>\n",
              "      <td>2</td>\n",
              "      <td>1</td>\n",
              "      <td>0</td>\n",
              "      <td>1</td>\n",
              "      <td>0</td>\n",
              "      <td>1</td>\n",
              "      <td>3</td>\n",
              "      <td>1</td>\n",
              "      <td>2</td>\n",
              "    </tr>\n",
              "    <tr>\n",
              "      <th>4</th>\n",
              "      <td>11410000</td>\n",
              "      <td>7420</td>\n",
              "      <td>4</td>\n",
              "      <td>1</td>\n",
              "      <td>2</td>\n",
              "      <td>1</td>\n",
              "      <td>1</td>\n",
              "      <td>1</td>\n",
              "      <td>0</td>\n",
              "      <td>1</td>\n",
              "      <td>2</td>\n",
              "      <td>0</td>\n",
              "      <td>2</td>\n",
              "    </tr>\n",
              "  </tbody>\n",
              "</table>\n",
              "</div>"
            ],
            "text/plain": [
              "      price  area  bedrooms  bathrooms  stories  mainroad  guestroom  \\\n",
              "0  13300000  7420         4          2        3         1          0   \n",
              "1  12250000  8960         4          4        4         1          0   \n",
              "2  12250000  9960         3          2        2         1          0   \n",
              "3  12215000  7500         4          2        2         1          0   \n",
              "4  11410000  7420         4          1        2         1          1   \n",
              "\n",
              "   basement  hotwaterheating  airconditioning  parking  prefarea  \\\n",
              "0         0                0                1        2         1   \n",
              "1         0                0                1        3         0   \n",
              "2         1                0                0        2         1   \n",
              "3         1                0                1        3         1   \n",
              "4         1                0                1        2         0   \n",
              "\n",
              "   furnishingstatus  \n",
              "0                 2  \n",
              "1                 2  \n",
              "2                 1  \n",
              "3                 2  \n",
              "4                 2  "
            ]
          },
          "execution_count": 548,
          "metadata": {},
          "output_type": "execute_result"
        }
      ],
      "source": [
        "df.head()"
      ]
    },
    {
      "cell_type": "code",
      "execution_count": 549,
      "metadata": {
        "colab": {
          "base_uri": "https://localhost:8080/",
          "height": 800
        },
        "id": "8BzEVGVk0TkH",
        "outputId": "2c9eb553-5bd6-4304-da0d-ccd1dbe5c642"
      },
      "outputs": [
        {
          "data": {
            "image/png": "[encoded data removed]",
            "text/plain": [
              "<Figure size 1200x800 with 2 Axes>"
            ]
          },
          "metadata": {},
          "output_type": "display_data"
        }
      ],
      "source": [
        "plt.figure(figsize=(12,8))\n",
        "corr = df.corr()\n",
        "sns.heatmap(corr, annot=True, cmap='coolwarm', center=0)\n",
        "plt.title(\"Correlation Heatmap\")\n",
        "plt.show()"
      ]
    },
    {
      "cell_type": "code",
      "execution_count": 550,
      "metadata": {},
      "outputs": [
        {
          "data": {
            "application/vnd.plotly.v1+json": {
              "config": {
                "plotlyServerURL": "https://plot.ly"
              },
              "data": [
                {
                  "coloraxis": "coloraxis",
                  "hovertemplate": "x: %{x}<br>y: %{y}<br>color: %{z}<extra></extra>",
                  "name": "0",
                  "texttemplate": "%{z}",
                  "type": "heatmap",
                  "x": [
                    "price",
                    "area",
                    "bedrooms",
                    "bathrooms",
                    "stories",
                    "mainroad",
                    "guestroom",
                    "basement",
                    "hotwaterheating",
                    "airconditioning",
                    "parking",
                    "prefarea",
                    "furnishingstatus"
                  ],
                  "xaxis": "x",
                  "y": [
                    "price",
                    "area",
                    "bedrooms",
                    "bathrooms",
                    "stories",
                    "mainroad",
                    "guestroom",
                    "basement",
                    "hotwaterheating",
                    "airconditioning",
                    "parking",
                    "prefarea",
                    "furnishingstatus"
                  ],
                  "yaxis": "y",
                  "z": [
                    [
                      1,
                      0.5359973457780797,
                      0.36649402577386964,
                      0.517545339455012,
                      0.42071236618861724,
                      0.2968984892639758,
                      0.2555172899350002,
                      0.18705659793805265,
                      0.09307284392139716,
                      0.4529540842560477,
                      0.38439364863572645,
                      0.32977704986810746,
                      0.30472146153743424
                    ],
                    [
                      0.5359973457780797,
                      1,
                      0.1518584855745371,
                      0.1938195310520531,
                      0.08399605092891993,
                      0.2888741141250673,
                      0.14029659048176996,
                      0.047416988564942766,
                      -0.009229236053235257,
                      0.2223931035389804,
                      0.35298048121168235,
                      0.234778798393511,
                      0.1714453609578259
                    ],
                    [
                      0.36649402577386964,
                      0.1518584855745371,
                      1,
                      0.37393023597215413,
                      0.4085642375381521,
                      -0.012033244762023268,
                      0.08054870420223764,
                      0.0973124240981151,
                      0.0460488869830677,
                      0.16060325689743948,
                      0.139269896865613,
                      0.07902306408232203,
                      0.12324399876430862
                    ],
                    [
                      0.517545339455012,
                      0.1938195310520531,
                      0.37393023597215413,
                      1,
                      0.32616470613294235,
                      0.04239762400552778,
                      0.12646884480526732,
                      0.10210570644531426,
                      0.06715909647508703,
                      0.18691502783239133,
                      0.17749582102283437,
                      0.06347174021699561,
                      0.14355949825183334
                    ],
                    [
                      0.42071236618861724,
                      0.08399605092891993,
                      0.4085642375381521,
                      0.32616470613294235,
                      1,
                      0.12170613053945555,
                      0.04353767150057484,
                      -0.1723936174865975,
                      0.018846510680018726,
                      0.29360200037394213,
                      0.045547091916846645,
                      0.04442487225791426,
                      0.1046723332858147
                    ],
                    [
                      0.2968984892639758,
                      0.2888741141250673,
                      -0.012033244762023268,
                      0.04239762400552778,
                      0.12170613053945555,
                      1,
                      0.09233691908079553,
                      0.04400208110145461,
                      -0.011781489896788098,
                      0.105422998072852,
                      0.2044325475294379,
                      0.19987577692800673,
                      0.15672586313241488
                    ],
                    [
                      0.2555172899350002,
                      0.14029659048176996,
                      0.08054870420223764,
                      0.12646884480526732,
                      0.04353767150057484,
                      0.09233691908079553,
                      1,
                      0.37206570752255735,
                      -0.01030788427330805,
                      0.13817876660914374,
                      0.03746574580371607,
                      0.1608969362404531,
                      0.11832756557090923
                    ],
                    [
                      0.18705659793805265,
                      0.047416988564942766,
                      0.0973124240981151,
                      0.10210570644531426,
                      -0.1723936174865975,
                      0.04400208110145461,
                      0.37206570752255735,
                      1,
                      0.004384836068969039,
                      0.04734118851852905,
                      0.0514971753951969,
                      0.22808285272642276,
                      0.11283073245662607
                    ],
                    [
                      0.09307284392139716,
                      -0.009229236053235257,
                      0.0460488869830677,
                      0.06715909647508703,
                      0.018846510680018726,
                      -0.011781489896788098,
                      -0.01030788427330805,
                      0.004384836068969039,
                      1,
                      -0.13002283342067683,
                      0.06786388846517237,
                      -0.05941138180401149,
                      0.031628204038535335
                    ],
                    [
                      0.4529540842560477,
                      0.2223931035389804,
                      0.16060325689743948,
                      0.18691502783239133,
                      0.29360200037394213,
                      0.105422998072852,
                      0.13817876660914374,
                      0.04734118851852905,
                      -0.13002283342067683,
                      1,
                      0.15917268297096523,
                      0.11738209724461157,
                      0.15047728577374644
                    ],
                    [
                      0.38439364863572645,
                      0.35298048121168235,
                      0.139269896865613,
                      0.17749582102283437,
                      0.045547091916846645,
                      0.2044325475294379,
                      0.03746574580371607,
                      0.0514971753951969,
                      0.06786388846517237,
                      0.15917268297096523,
                      1,
                      0.09162706193381093,
                      0.17753860680724337
                    ],
                    [
                      0.32977704986810746,
                      0.234778798393511,
                      0.07902306408232203,
                      0.06347174021699561,
                      0.04442487225791426,
                      0.19987577692800673,
                      0.1608969362404531,
                      0.22808285272642276,
                      -0.05941138180401149,
                      0.11738209724461157,
                      0.09162706193381093,
                      1,
                      0.10768597141348127
                    ],
                    [
                      0.30472146153743424,
                      0.1714453609578259,
                      0.12324399876430862,
                      0.14355949825183334,
                      0.1046723332858147,
                      0.15672586313241488,
                      0.11832756557090923,
                      0.11283073245662607,
                      0.031628204038535335,
                      0.15047728577374644,
                      0.17753860680724337,
                      0.10768597141348127,
                      1
                    ]
                  ]
                }
              ],
              "layout": {
                "coloraxis": {
                  "colorscale": [
                    [
                      0,
                      "#0d0887"
                    ],
                    [
                      0.1111111111111111,
                      "#46039f"
                    ],
                    [
                      0.2222222222222222,
                      "#7201a8"
                    ],
                    [
                      0.3333333333333333,
                      "#9c179e"
                    ],
                    [
                      0.4444444444444444,
                      "#bd3786"
                    ],
                    [
                      0.5555555555555556,
                      "#d8576b"
                    ],
                    [
                      0.6666666666666666,
                      "#ed7953"
                    ],
                    [
                      0.7777777777777778,
                      "#fb9f3a"
                    ],
                    [
                      0.8888888888888888,
                      "#fdca26"
                    ],
                    [
                      1,
                      "#f0f921"
                    ]
                  ]
                },
                "margin": {
                  "t": 60
                },
                "template": {
                  "data": {
                    "bar": [
                      {
                        "error_x": {
                          "color": "#2a3f5f"
                        },
                        "error_y": {
                          "color": "#2a3f5f"
                        },
                        "marker": {
                          "line": {
                            "color": "#E5ECF6",
                            "width": 0.5
                          },
                          "pattern": {
                            "fillmode": "overlay",
                            "size": 10,
                            "solidity": 0.2
                          }
                        },
                        "type": "bar"
                      }
                    ],
                    "barpolar": [
                      {
                        "marker": {
                          "line": {
                            "color": "#E5ECF6",
                            "width": 0.5
                          },
                          "pattern": {
                            "fillmode": "overlay",
                            "size": 10,
                            "solidity": 0.2
                          }
                        },
                        "type": "barpolar"
                      }
                    ],
                    "carpet": [
                      {
                        "aaxis": {
                          "endlinecolor": "#2a3f5f",
                          "gridcolor": "white",
                          "linecolor": "white",
                          "minorgridcolor": "white",
                          "startlinecolor": "#2a3f5f"
                        },
                        "baxis": {
                          "endlinecolor": "#2a3f5f",
                          "gridcolor": "white",
                          "linecolor": "white",
                          "minorgridcolor": "white",
                          "startlinecolor": "#2a3f5f"
                        },
                        "type": "carpet"
                      }
                    ],
                    "choropleth": [
                      {
                        "colorbar": {
                          "outlinewidth": 0,
                          "ticks": ""
                        },
                        "type": "choropleth"
                      }
                    ],
                    "contour": [
                      {
                        "colorbar": {
                          "outlinewidth": 0,
                          "ticks": ""
                        },
                        "colorscale": [
                          [
                            0,
                            "#0d0887"
                          ],
                          [
                            0.1111111111111111,
                            "#46039f"
                          ],
                          [
                            0.2222222222222222,
                            "#7201a8"
                          ],
                          [
                            0.3333333333333333,
                            "#9c179e"
                          ],
                          [
                            0.4444444444444444,
                            "#bd3786"
                          ],
                          [
                            0.5555555555555556,
                            "#d8576b"
                          ],
                          [
                            0.6666666666666666,
                            "#ed7953"
                          ],
                          [
                            0.7777777777777778,
                            "#fb9f3a"
                          ],
                          [
                            0.8888888888888888,
                            "#fdca26"
                          ],
                          [
                            1,
                            "#f0f921"
                          ]
                        ],
                        "type": "contour"
                      }
                    ],
                    "contourcarpet": [
                      {
                        "colorbar": {
                          "outlinewidth": 0,
                          "ticks": ""
                        },
                        "type": "contourcarpet"
                      }
                    ],
                    "heatmap": [
                      {
                        "colorbar": {
                          "outlinewidth": 0,
                          "ticks": ""
                        },
                        "colorscale": [
                          [
                            0,
                            "#0d0887"
                          ],
                          [
                            0.1111111111111111,
                            "#46039f"
                          ],
                          [
                            0.2222222222222222,
                            "#7201a8"
                          ],
                          [
                            0.3333333333333333,
                            "#9c179e"
                          ],
                          [
                            0.4444444444444444,
                            "#bd3786"
                          ],
                          [
                            0.5555555555555556,
                            "#d8576b"
                          ],
                          [
                            0.6666666666666666,
                            "#ed7953"
                          ],
                          [
                            0.7777777777777778,
                            "#fb9f3a"
                          ],
                          [
                            0.8888888888888888,
                            "#fdca26"
                          ],
                          [
                            1,
                            "#f0f921"
                          ]
                        ],
                        "type": "heatmap"
                      }
                    ],
                    "heatmapgl": [
                      {
                        "colorbar": {
                          "outlinewidth": 0,
                          "ticks": ""
                        },
                        "colorscale": [
                          [
                            0,
                            "#0d0887"
                          ],
                          [
                            0.1111111111111111,
                            "#46039f"
                          ],
                          [
                            0.2222222222222222,
                            "#7201a8"
                          ],
                          [
                            0.3333333333333333,
                            "#9c179e"
                          ],
                          [
                            0.4444444444444444,
                            "#bd3786"
                          ],
                          [
                            0.5555555555555556,
                            "#d8576b"
                          ],
                          [
                            0.6666666666666666,
                            "#ed7953"
                          ],
                          [
                            0.7777777777777778,
                            "#fb9f3a"
                          ],
                          [
                            0.8888888888888888,
                            "#fdca26"
                          ],
                          [
                            1,
                            "#f0f921"
                          ]
                        ],
                        "type": "heatmapgl"
                      }
                    ],
                    "histogram": [
                      {
                        "marker": {
                          "pattern": {
                            "fillmode": "overlay",
                            "size": 10,
                            "solidity": 0.2
                          }
                        },
                        "type": "histogram"
                      }
                    ],
                    "histogram2d": [
                      {
                        "colorbar": {
                          "outlinewidth": 0,
                          "ticks": ""
                        },
                        "colorscale": [
                          [
                            0,
                            "#0d0887"
                          ],
                          [
                            0.1111111111111111,
                            "#46039f"
                          ],
                          [
                            0.2222222222222222,
                            "#7201a8"
                          ],
                          [
                            0.3333333333333333,
                            "#9c179e"
                          ],
                          [
                            0.4444444444444444,
                            "#bd3786"
                          ],
                          [
                            0.5555555555555556,
                            "#d8576b"
                          ],
                          [
                            0.6666666666666666,
                            "#ed7953"
                          ],
                          [
                            0.7777777777777778,
                            "#fb9f3a"
                          ],
                          [
                            0.8888888888888888,
                            "#fdca26"
                          ],
                          [
                            1,
                            "#f0f921"
                          ]
                        ],
                        "type": "histogram2d"
                      }
                    ],
                    "histogram2dcontour": [
                      {
                        "colorbar": {
                          "outlinewidth": 0,
                          "ticks": ""
                        },
                        "colorscale": [
                          [
                            0,
                            "#0d0887"
                          ],
                          [
                            0.1111111111111111,
                            "#46039f"
                          ],
                          [
                            0.2222222222222222,
                            "#7201a8"
                          ],
                          [
                            0.3333333333333333,
                            "#9c179e"
                          ],
                          [
                            0.4444444444444444,
                            "#bd3786"
                          ],
                          [
                            0.5555555555555556,
                            "#d8576b"
                          ],
                          [
                            0.6666666666666666,
                            "#ed7953"
                          ],
                          [
                            0.7777777777777778,
                            "#fb9f3a"
                          ],
                          [
                            0.8888888888888888,
                            "#fdca26"
                          ],
                          [
                            1,
                            "#f0f921"
                          ]
                        ],
                        "type": "histogram2dcontour"
                      }
                    ],
                    "mesh3d": [
                      {
                        "colorbar": {
                          "outlinewidth": 0,
                          "ticks": ""
                        },
                        "type": "mesh3d"
                      }
                    ],
                    "parcoords": [
                      {
                        "line": {
                          "colorbar": {
                            "outlinewidth": 0,
                            "ticks": ""
                          }
                        },
                        "type": "parcoords"
                      }
                    ],
                    "pie": [
                      {
                        "automargin": true,
                        "type": "pie"
                      }
                    ],
                    "scatter": [
                      {
                        "fillpattern": {
                          "fillmode": "overlay",
                          "size": 10,
                          "solidity": 0.2
                        },
                        "type": "scatter"
                      }
                    ],
                    "scatter3d": [
                      {
                        "line": {
                          "colorbar": {
                            "outlinewidth": 0,
                            "ticks": ""
                          }
                        },
                        "marker": {
                          "colorbar": {
                            "outlinewidth": 0,
                            "ticks": ""
                          }
                        },
                        "type": "scatter3d"
                      }
                    ],
                    "scattercarpet": [
                      {
                        "marker": {
                          "colorbar": {
                            "outlinewidth": 0,
                            "ticks": ""
                          }
                        },
                        "type": "scattercarpet"
                      }
                    ],
                    "scattergeo": [
                      {
                        "marker": {
                          "colorbar": {
                            "outlinewidth": 0,
                            "ticks": ""
                          }
                        },
                        "type": "scattergeo"
                      }
                    ],
                    "scattergl": [
                      {
                        "marker": {
                          "colorbar": {
                            "outlinewidth": 0,
                            "ticks": ""
                          }
                        },
                        "type": "scattergl"
                      }
                    ],
                    "scattermapbox": [
                      {
                        "marker": {
                          "colorbar": {
                            "outlinewidth": 0,
                            "ticks": ""
                          }
                        },
                        "type": "scattermapbox"
                      }
                    ],
                    "scatterpolar": [
                      {
                        "marker": {
                          "colorbar": {
                            "outlinewidth": 0,
                            "ticks": ""
                          }
                        },
                        "type": "scatterpolar"
                      }
                    ],
                    "scatterpolargl": [
                      {
                        "marker": {
                          "colorbar": {
                            "outlinewidth": 0,
                            "ticks": ""
                          }
                        },
                        "type": "scatterpolargl"
                      }
                    ],
                    "scatterternary": [
                      {
                        "marker": {
                          "colorbar": {
                            "outlinewidth": 0,
                            "ticks": ""
                          }
                        },
                        "type": "scatterternary"
                      }
                    ],
                    "surface": [
                      {
                        "colorbar": {
                          "outlinewidth": 0,
                          "ticks": ""
                        },
                        "colorscale": [
                          [
                            0,
                            "#0d0887"
                          ],
                          [
                            0.1111111111111111,
                            "#46039f"
                          ],
                          [
                            0.2222222222222222,
                            "#7201a8"
                          ],
                          [
                            0.3333333333333333,
                            "#9c179e"
                          ],
                          [
                            0.4444444444444444,
                            "#bd3786"
                          ],
                          [
                            0.5555555555555556,
                            "#d8576b"
                          ],
                          [
                            0.6666666666666666,
                            "#ed7953"
                          ],
                          [
                            0.7777777777777778,
                            "#fb9f3a"
                          ],
                          [
                            0.8888888888888888,
                            "#fdca26"
                          ],
                          [
                            1,
                            "#f0f921"
                          ]
                        ],
                        "type": "surface"
                      }
                    ],
                    "table": [
                      {
                        "cells": {
                          "fill": {
                            "color": "#EBF0F8"
                          },
                          "line": {
                            "color": "white"
                          }
                        },
                        "header": {
                          "fill": {
                            "color": "#C8D4E3"
                          },
                          "line": {
                            "color": "white"
                          }
                        },
                        "type": "table"
                      }
                    ]
                  },
                  "layout": {
                    "annotationdefaults": {
                      "arrowcolor": "#2a3f5f",
                      "arrowhead": 0,
                      "arrowwidth": 1
                    },
                    "autotypenumbers": "strict",
                    "coloraxis": {
                      "colorbar": {
                        "outlinewidth": 0,
                        "ticks": ""
                      }
                    },
                    "colorscale": {
                      "diverging": [
                        [
                          0,
                          "#8e0152"
                        ],
                        [
                          0.1,
                          "#c51b7d"
                        ],
                        [
                          0.2,
                          "#de77ae"
                        ],
                        [
                          0.3,
                          "#f1b6da"
                        ],
                        [
                          0.4,
                          "#fde0ef"
                        ],
                        [
                          0.5,
                          "#f7f7f7"
                        ],
                        [
                          0.6,
                          "#e6f5d0"
                        ],
                        [
                          0.7,
                          "#b8e186"
                        ],
                        [
                          0.8,
                          "#7fbc41"
                        ],
                        [
                          0.9,
                          "#4d9221"
                        ],
                        [
                          1,
                          "#276419"
                        ]
                      ],
                      "sequential": [
                        [
                          0,
                          "#0d0887"
                        ],
                        [
                          0.1111111111111111,
                          "#46039f"
                        ],
                        [
                          0.2222222222222222,
                          "#7201a8"
                        ],
                        [
                          0.3333333333333333,
                          "#9c179e"
                        ],
                        [
                          0.4444444444444444,
                          "#bd3786"
                        ],
                        [
                          0.5555555555555556,
                          "#d8576b"
                        ],
                        [
                          0.6666666666666666,
                          "#ed7953"
                        ],
                        [
                          0.7777777777777778,
                          "#fb9f3a"
                        ],
                        [
                          0.8888888888888888,
                          "#fdca26"
                        ],
                        [
                          1,
                          "#f0f921"
                        ]
                      ],
                      "sequentialminus": [
                        [
                          0,
                          "#0d0887"
                        ],
                        [
                          0.1111111111111111,
                          "#46039f"
                        ],
                        [
                          0.2222222222222222,
                          "#7201a8"
                        ],
                        [
                          0.3333333333333333,
                          "#9c179e"
                        ],
                        [
                          0.4444444444444444,
                          "#bd3786"
                        ],
                        [
                          0.5555555555555556,
                          "#d8576b"
                        ],
                        [
                          0.6666666666666666,
                          "#ed7953"
                        ],
                        [
                          0.7777777777777778,
                          "#fb9f3a"
                        ],
                        [
                          0.8888888888888888,
                          "#fdca26"
                        ],
                        [
                          1,
                          "#f0f921"
                        ]
                      ]
                    },
                    "colorway": [
                      "#636efa",
                      "#EF553B",
                      "#00cc96",
                      "#ab63fa",
                      "#FFA15A",
                      "#19d3f3",
                      "#FF6692",
                      "#B6E880",
                      "#FF97FF",
                      "#FECB52"
                    ],
                    "font": {
                      "color": "#2a3f5f"
                    },
                    "geo": {
                      "bgcolor": "white",
                      "lakecolor": "white",
                      "landcolor": "#E5ECF6",
                      "showlakes": true,
                      "showland": true,
                      "subunitcolor": "white"
                    },
                    "hoverlabel": {
                      "align": "left"
                    },
                    "hovermode": "closest",
                    "mapbox": {
                      "style": "light"
                    },
                    "paper_bgcolor": "white",
                    "plot_bgcolor": "#E5ECF6",
                    "polar": {
                      "angularaxis": {
                        "gridcolor": "white",
                        "linecolor": "white",
                        "ticks": ""
                      },
                      "bgcolor": "#E5ECF6",
                      "radialaxis": {
                        "gridcolor": "white",
                        "linecolor": "white",
                        "ticks": ""
                      }
                    },
                    "scene": {
                      "xaxis": {
                        "backgroundcolor": "#E5ECF6",
                        "gridcolor": "white",
                        "gridwidth": 2,
                        "linecolor": "white",
                        "showbackground": true,
                        "ticks": "",
                        "zerolinecolor": "white"
                      },
                      "yaxis": {
                        "backgroundcolor": "#E5ECF6",
                        "gridcolor": "white",
                        "gridwidth": 2,
                        "linecolor": "white",
                        "showbackground": true,
                        "ticks": "",
                        "zerolinecolor": "white"
                      },
                      "zaxis": {
                        "backgroundcolor": "#E5ECF6",
                        "gridcolor": "white",
                        "gridwidth": 2,
                        "linecolor": "white",
                        "showbackground": true,
                        "ticks": "",
                        "zerolinecolor": "white"
                      }
                    },
                    "shapedefaults": {
                      "line": {
                        "color": "#2a3f5f"
                      }
                    },
                    "ternary": {
                      "aaxis": {
                        "gridcolor": "white",
                        "linecolor": "white",
                        "ticks": ""
                      },
                      "baxis": {
                        "gridcolor": "white",
                        "linecolor": "white",
                        "ticks": ""
                      },
                      "bgcolor": "#E5ECF6",
                      "caxis": {
                        "gridcolor": "white",
                        "linecolor": "white",
                        "ticks": ""
                      }
                    },
                    "title": {
                      "x": 0.05
                    },
                    "xaxis": {
                      "automargin": true,
                      "gridcolor": "white",
                      "linecolor": "white",
                      "ticks": "",
                      "title": {
                        "standoff": 15
                      },
                      "zerolinecolor": "white",
                      "zerolinewidth": 2
                    },
                    "yaxis": {
                      "automargin": true,
                      "gridcolor": "white",
                      "linecolor": "white",
                      "ticks": "",
                      "title": {
                        "standoff": 15
                      },
                      "zerolinecolor": "white",
                      "zerolinewidth": 2
                    }
                  }
                },
                "title": {
                  "text": "Correlation Heatmap"
                },
                "xaxis": {
                  "anchor": "y",
                  "domain": [
                    0,
                    1
                  ]
                },
                "yaxis": {
                  "anchor": "x",
                  "autorange": "reversed",
                  "domain": [
                    0,
                    1
                  ]
                }
              }
            }
          },
          "metadata": {},
          "output_type": "display_data"
        }
      ],
      "source": [
        "heatmap = px.imshow(\n",
        "    corr,\n",
        "    text_auto=True,       \n",
        "    aspect=\"auto\"     \n",
        ")\n",
        "\n",
        "heatmap.update_layout(\n",
        "    title=\"Correlation Heatmap\"\n",
        ")"
      ]
    },
    {
      "cell_type": "code",
      "execution_count": 551,
      "metadata": {
        "colab": {
          "base_uri": "https://localhost:8080/",
          "height": 206
        },
        "id": "GA3DOuEK0-Ru",
        "outputId": "aaab08f4-17be-40d3-8826-aa5e31f8ffee"
      },
      "outputs": [
        {
          "data": {
            "text/html": [
              "<div>\n",
              "<style scoped>\n",
              "    .dataframe tbody tr th:only-of-type {\n",
              "        vertical-align: middle;\n",
              "    }\n",
              "\n",
              "    .dataframe tbody tr th {\n",
              "        vertical-align: top;\n",
              "    }\n",
              "\n",
              "    .dataframe thead th {\n",
              "        text-align: right;\n",
              "    }\n",
              "</style>\n",
              "<table border=\"1\" class=\"dataframe\">\n",
              "  <thead>\n",
              "    <tr style=\"text-align: right;\">\n",
              "      <th></th>\n",
              "      <th>price</th>\n",
              "      <th>area</th>\n",
              "      <th>bedrooms</th>\n",
              "      <th>bathrooms</th>\n",
              "      <th>stories</th>\n",
              "      <th>mainroad</th>\n",
              "      <th>guestroom</th>\n",
              "      <th>basement</th>\n",
              "      <th>hotwaterheating</th>\n",
              "      <th>airconditioning</th>\n",
              "      <th>parking</th>\n",
              "      <th>prefarea</th>\n",
              "      <th>furnishingstatus</th>\n",
              "      <th>price_scaled</th>\n",
              "      <th>area_scaled</th>\n",
              "    </tr>\n",
              "  </thead>\n",
              "  <tbody>\n",
              "    <tr>\n",
              "      <th>0</th>\n",
              "      <td>13300000</td>\n",
              "      <td>7420</td>\n",
              "      <td>4</td>\n",
              "      <td>2</td>\n",
              "      <td>3</td>\n",
              "      <td>1</td>\n",
              "      <td>0</td>\n",
              "      <td>0</td>\n",
              "      <td>0</td>\n",
              "      <td>1</td>\n",
              "      <td>2</td>\n",
              "      <td>1</td>\n",
              "      <td>2</td>\n",
              "      <td>4.566365</td>\n",
              "      <td>1.046726</td>\n",
              "    </tr>\n",
              "    <tr>\n",
              "      <th>1</th>\n",
              "      <td>12250000</td>\n",
              "      <td>8960</td>\n",
              "      <td>4</td>\n",
              "      <td>4</td>\n",
              "      <td>4</td>\n",
              "      <td>1</td>\n",
              "      <td>0</td>\n",
              "      <td>0</td>\n",
              "      <td>0</td>\n",
              "      <td>1</td>\n",
              "      <td>3</td>\n",
              "      <td>0</td>\n",
              "      <td>2</td>\n",
              "      <td>4.004484</td>\n",
              "      <td>1.757010</td>\n",
              "    </tr>\n",
              "    <tr>\n",
              "      <th>2</th>\n",
              "      <td>12250000</td>\n",
              "      <td>9960</td>\n",
              "      <td>3</td>\n",
              "      <td>2</td>\n",
              "      <td>2</td>\n",
              "      <td>1</td>\n",
              "      <td>0</td>\n",
              "      <td>1</td>\n",
              "      <td>0</td>\n",
              "      <td>0</td>\n",
              "      <td>2</td>\n",
              "      <td>1</td>\n",
              "      <td>1</td>\n",
              "      <td>4.004484</td>\n",
              "      <td>2.218232</td>\n",
              "    </tr>\n",
              "    <tr>\n",
              "      <th>3</th>\n",
              "      <td>12215000</td>\n",
              "      <td>7500</td>\n",
              "      <td>4</td>\n",
              "      <td>2</td>\n",
              "      <td>2</td>\n",
              "      <td>1</td>\n",
              "      <td>0</td>\n",
              "      <td>1</td>\n",
              "      <td>0</td>\n",
              "      <td>1</td>\n",
              "      <td>3</td>\n",
              "      <td>1</td>\n",
              "      <td>2</td>\n",
              "      <td>3.985755</td>\n",
              "      <td>1.083624</td>\n",
              "    </tr>\n",
              "    <tr>\n",
              "      <th>4</th>\n",
              "      <td>11410000</td>\n",
              "      <td>7420</td>\n",
              "      <td>4</td>\n",
              "      <td>1</td>\n",
              "      <td>2</td>\n",
              "      <td>1</td>\n",
              "      <td>1</td>\n",
              "      <td>1</td>\n",
              "      <td>0</td>\n",
              "      <td>1</td>\n",
              "      <td>2</td>\n",
              "      <td>0</td>\n",
              "      <td>2</td>\n",
              "      <td>3.554979</td>\n",
              "      <td>1.046726</td>\n",
              "    </tr>\n",
              "  </tbody>\n",
              "</table>\n",
              "</div>"
            ],
            "text/plain": [
              "      price  area  bedrooms  bathrooms  stories  mainroad  guestroom  \\\n",
              "0  13300000  7420         4          2        3         1          0   \n",
              "1  12250000  8960         4          4        4         1          0   \n",
              "2  12250000  9960         3          2        2         1          0   \n",
              "3  12215000  7500         4          2        2         1          0   \n",
              "4  11410000  7420         4          1        2         1          1   \n",
              "\n",
              "   basement  hotwaterheating  airconditioning  parking  prefarea  \\\n",
              "0         0                0                1        2         1   \n",
              "1         0                0                1        3         0   \n",
              "2         1                0                0        2         1   \n",
              "3         1                0                1        3         1   \n",
              "4         1                0                1        2         0   \n",
              "\n",
              "   furnishingstatus  price_scaled  area_scaled  \n",
              "0                 2      4.566365     1.046726  \n",
              "1                 2      4.004484     1.757010  \n",
              "2                 1      4.004484     2.218232  \n",
              "3                 2      3.985755     1.083624  \n",
              "4                 2      3.554979     1.046726  "
            ]
          },
          "execution_count": 551,
          "metadata": {},
          "output_type": "execute_result"
        }
      ],
      "source": [
        "Scaler= ss()\n",
        "df['price_scaled'] = Scaler.fit_transform(df[['price']])\n",
        "df['area_scaled'] = Scaler.fit_transform(df[['area']])\n",
        "df.head()"
      ]
    },
    {
      "cell_type": "code",
      "execution_count": 553,
      "metadata": {
        "colab": {
          "base_uri": "https://localhost:8080/"
        },
        "id": "rjWuQcrsI0wV",
        "outputId": "9618b0f0-a23b-4732-c480-918af45eef6b"
      },
      "outputs": [
        {
          "data": {
            "text/plain": [
              "Index(['price', 'area', 'bedrooms', 'bathrooms', 'stories', 'mainroad',\n",
              "       'guestroom', 'basement', 'hotwaterheating', 'airconditioning',\n",
              "       'parking', 'prefarea', 'furnishingstatus', 'price_scaled',\n",
              "       'area_scaled'],\n",
              "      dtype='object')"
            ]
          },
          "execution_count": 553,
          "metadata": {},
          "output_type": "execute_result"
        }
      ],
      "source": [
        "df.columns"
      ]
    },
    {
      "cell_type": "code",
      "execution_count": 554,
      "metadata": {
        "colab": {
          "base_uri": "https://localhost:8080/"
        },
        "id": "_0x1UvCn9uju",
        "outputId": "92f506ad-785a-4266-9c4b-6753f580bfb1"
      },
      "outputs": [
        {
          "name": "stdout",
          "output_type": "stream",
          "text": [
            "model score 0.6857300403561137\n",
            "RMSE Valid: 0.6435111613275973\n",
            "RMSE Test: 0.6435111613275973\n",
            "[0.10859544 0.48110225 0.16725756 0.2087289  0.24636438 0.21419047\n",
            " 0.53566165 0.3638968  0.15925617 0.15813636 0.16661257 0.33072928]\n"
          ]
        }
      ],
      "source": [
        "features = list(df.columns)\n",
        "features.remove('price')\n",
        "features.remove('price_scaled')\n",
        "features.remove('area')\n",
        "\n",
        "model = lr()\n",
        "x = df[features]\n",
        "y = df['price_scaled']\n",
        "\n",
        "X_train, X_test, y_train, y_test = tts(x, y, test_size=0.6, random_state=42)\n",
        "X_valid, X_test, y_valid, y_test = tts(X_test, y_test, test_size=0.5, random_state=42)\n",
        "\n",
        "model.fit(X_train, y_train)\n",
        "print(\"model score\",model.score(X_train,y_train))\n",
        "y_pred_valid = model.predict(X_valid)\n",
        "y_pred_test = model.predict(X_test)\n",
        "\n",
        "mse_valid = mse(y_valid, y_pred_valid)\n",
        "rmse_valid = mse_valid ** 0.5\n",
        "\n",
        "mse_test = mse(y_test, y_pred_test)\n",
        "rmse_valid = mse_test ** 0.5\n",
        "\n",
        "print(\"RMSE Valid:\", rmse_valid)\n",
        "print(\"RMSE Test:\", rmse_valid)\n",
        "\n",
        "print(model.coef_)"
      ]
    },
    {
      "cell_type": "code",
      "execution_count": 555,
      "metadata": {
        "colab": {
          "base_uri": "https://localhost:8080/",
          "height": 564
        },
        "id": "VBFhylIJEyU3",
        "outputId": "ed8b132c-ca54-436f-daea-9badceb6cd22"
      },
      "outputs": [
        {
          "data": {
            "image/png": "[encoded data removed]",
            "text/plain": [
              "<Figure size 1000x600 with 1 Axes>"
            ]
          },
          "metadata": {},
          "output_type": "display_data"
        }
      ],
      "source": [
        "plt.figure(figsize=(10, 6))\n",
        "plt.scatter(y_valid, y_pred_valid, color='blue', alpha=0.6, label='Validation')\n",
        "plt.plot([y_valid.min(), y_valid.max()], [y_valid.min(), y_valid.max()], 'k--', lw=2, label='Perfect Prediction')\n",
        "plt.xlabel(\"Actual Price Scaled\")\n",
        "plt.ylabel(\"Predicted Price Scaled\")\n",
        "plt.title(\"Actual vs Predicted Prices (Validation Set)\")\n",
        "plt.legend()\n",
        "plt.show()"
      ]
    },
    {
      "cell_type": "code",
      "execution_count": 556,
      "metadata": {},
      "outputs": [
        {
          "data": {
            "application/vnd.plotly.v1+json": {
              "config": {
                "plotlyServerURL": "https://plot.ly"
              },
              "data": [
                {
                  "hovertemplate": "Actual Price Scaled=%{x}<br>Predicted Price Scaled=%{y}<extra></extra>",
                  "legendgroup": "",
                  "marker": {
                    "color": "blue",
                    "opacity": 0.6,
                    "symbol": "circle"
                  },
                  "mode": "markers",
                  "name": "",
                  "orientation": "v",
                  "showlegend": false,
                  "type": "scatter",
                  "x": [
                    -0.5654820671095402,
                    -1.6143267488861697,
                    0.704369172612879,
                    -0.5654820671095402,
                    -1.2397393625373734,
                    0.4459038760322096,
                    0.4459038760322096,
                    -0.677858283014179,
                    -0.8276932375536976,
                    -1.2022806239024937,
                    0.9328674782856446,
                    -0.7902344989188179,
                    1.3823723419042002,
                    -1.1311090204962224,
                    0.14623396695317262,
                    0.6331975692066076,
                    0.07131648968341336,
                    -0.2620662841670153,
                    0.8204912623810058,
                    0.9328674782856446,
                    -0.30327089666538287,
                    1.8318772055227557,
                    2.075359006649473,
                    0.6331975692066076,
                    -0.677858283014179,
                    -0.7527757602839383,
                    -0.30327089666538287,
                    2.6934281941249867,
                    -0.9026107148234568,
                    -0.07851846485610513,
                    0.25861018285781145,
                    0.5582800919368485,
                    -0.7190628955125467,
                    -1.2397393625373734,
                    0.6331975692066076,
                    0.14248809308968463,
                    -0.08226433871959309,
                    -0.6029408057444199,
                    -0.58421143642698,
                    2.6297483384456917,
                    -0.6965876523316189,
                    -1.1273631466327345,
                    -0.9026107148234568,
                    0.5919929567082401,
                    -0.6403995443792995,
                    -0.7153170216490587,
                    -0.3781883739351421,
                    -0.4531058512049013,
                    -0.30327089666538287,
                    0.8204912623810058,
                    -0.9400694534583365,
                    1.494748557808839,
                    -0.1721653114433042,
                    0.23988081354037166,
                    0.40844513739732996,
                    0.2548643089943235,
                    0.7830325237461262,
                    0.07131648968341336,
                    0.9890555862379641,
                    -0.677858283014179,
                    -0.2470827887130634,
                    0.5208213533019688,
                    -0.26581215803050323,
                    -0.09724783417354493,
                    -1.1273631466327345,
                    -1.4083036863943317,
                    -0.20587817621469584,
                    0.4459038760322096,
                    0.18369270558805223,
                    0.7643031544286863,
                    -0.7902344989188179,
                    -0.7340463909664985,
                    -1.0524456693629753,
                    -0.6029408057444199,
                    1.007784955555404,
                    0.25861018285781145,
                    -0.8651519761885772,
                    0.7081150464763669,
                    -0.30327089666538287,
                    -0.41564711257002174,
                    -0.58421143642698,
                    -0.007346861449833845,
                    0.7174797311350868,
                    -1.2622146057183012,
                    -0.677858283014179,
                    1.082702432825163,
                    -0.0036009875863458824,
                    -1.2397393625373734,
                    -0.6029408057444199,
                    0.09004585900085317,
                    -0.11597720349098475,
                    -0.8651519761885772,
                    -1.3333862091245725,
                    2.0191708986971535,
                    0.38971576807989017,
                    -0.9400694534583365,
                    -1.0243516153868155,
                    1.7195009896181168,
                    -0.19464055462423197,
                    -0.7340463909664985,
                    -0.30327089666538287,
                    2.880721887299385,
                    0.4459038760322096,
                    0.42717450671476975,
                    -1.2210099932199336,
                    -0.49056458983978096,
                    0.10877522831829298,
                    0.07506236354690132,
                    0.38971576807989017,
                    3.255309273648181,
                    -0.3969177432525819,
                    -0.5317692023381485,
                    -0.4062824279113018,
                    1.007784955555404,
                    -1.57686801025129,
                    1.213808018047242,
                    0.7081150464763669,
                    -0.7715051296013782,
                    0.6331975692066076,
                    2.075359006649473,
                    -0.26581215803050323,
                    -0.3781883739351421,
                    0.1649633362706124,
                    -0.7527757602839383,
                    4.566365125868969,
                    1.7532138543895084,
                    -0.6029408057444199,
                    -0.9775281920932161,
                    -0.677858283014179,
                    -0.3781883739351421,
                    -0.7715051296013782,
                    -0.8202014898267216,
                    1.9442534214273945,
                    2.0379002680145937,
                    -1.2397393625373734,
                    -1.0149869307280956,
                    -1.1273631466327345,
                    -0.0036009875863458824,
                    -0.22835341939562362,
                    -0.9438153273218244,
                    0.4739979300083693,
                    -0.9026107148234568,
                    0.3522570294450105,
                    -0.7527757602839383,
                    -0.3969177432525819,
                    0.6706563078414873,
                    -0.5317692023381485,
                    -0.2395910409860875,
                    -0.11597720349098475,
                    -0.04105972622122551,
                    -0.4531058512049013,
                    -0.6029408057444199,
                    0.4459038760322096,
                    -0.30701677052887083,
                    1.4198310805390797,
                    -0.30327089666538287,
                    -0.6816041568776671,
                    1.0452436941902836,
                    -0.8818211148810986,
                    0.4459038760322096,
                    1.6820422509832371,
                    -0.4531058512049013,
                    0.07131648968341336
                  ],
                  "xaxis": "x",
                  "y": [
                    -0.8686733945410166,
                    -0.7884155519343894,
                    0.9485464750430992,
                    -0.700535427871309,
                    -0.4769898898899574,
                    0.054745593942732595,
                    0.39033878007499667,
                    -0.6192243676761149,
                    -0.7189771161670182,
                    -0.6934447769656813,
                    0.18133138589389675,
                    -0.34294413059321216,
                    0.9567774101401041,
                    -0.40163776684725816,
                    0.415727988701897,
                    0.9277273707580302,
                    -0.2767706868980857,
                    0.0003932214002306811,
                    0.7417604035464149,
                    0.21864240832937454,
                    0.18649102504669623,
                    1.1154591696377067,
                    1.1179229812563294,
                    0.6989260866551128,
                    -0.34150805470807155,
                    -0.9289308337175017,
                    0.49685716037482686,
                    2.0257937098143417,
                    -0.8741338572193316,
                    0.4268623913842122,
                    1.440383873561134,
                    0.1152802501173189,
                    -1.0352859621063077,
                    -1.0346713029883519,
                    0.2407852065843301,
                    -0.29218821287150454,
                    0.2827615148103144,
                    -0.3295479784447939,
                    -0.7339305268664871,
                    2.0916865885681286,
                    -1.0761796380526085,
                    -0.766179554672189,
                    -0.7196440272919757,
                    1.182931981842194,
                    -0.34777787952606976,
                    -0.9556731088037242,
                    0.2787066899453683,
                    0.5385924104050253,
                    -0.34715657849276504,
                    0.6947155645920444,
                    -0.3963399977839963,
                    0.718414425885191,
                    -0.4523551188352115,
                    0.8337656578134542,
                    0.47069503430402615,
                    -0.08114590475328964,
                    -0.05207461793243362,
                    0.2786859660308061,
                    0.6195236886967266,
                    -0.7776481497179673,
                    0.41277136435399675,
                    -0.23344485285647432,
                    0.050516662302803494,
                    -0.2730532642603163,
                    -1.0514551926131201,
                    -1.4026563677563597,
                    0.01848315192407024,
                    0.2702462812514026,
                    0.3568077564692589,
                    1.1847803372520522,
                    -0.6191200477595216,
                    0.6711422136911238,
                    -0.605668583524563,
                    -0.450323684705878,
                    1.1313913685974832,
                    0.29403365587151487,
                    0.4822898863597682,
                    1.3309497455110344,
                    0.36256626876095654,
                    -0.43841102665522813,
                    -0.8333384366251766,
                    0.33908768697151337,
                    -0.27974317060541565,
                    -1.3057935246259273,
                    -0.2045101250019885,
                    1.8680848198174382,
                    0.6590791409824599,
                    -0.9604262481261218,
                    -0.29625528023863823,
                    0.062122546258320144,
                    -0.08143159628634944,
                    -0.4552902372442107,
                    -0.5559202880945191,
                    1.8459399651211796,
                    0.15944162083997493,
                    -0.06899783044802299,
                    -0.3066336796823672,
                    1.9370120498856804,
                    -0.32190831016766475,
                    -0.4839862664390058,
                    -0.12515621112568387,
                    2.2748477094218176,
                    0.7631712683218861,
                    0.9810253241351534,
                    -0.9601908070352412,
                    0.2976730057588155,
                    1.067122103135217,
                    -0.24254528217199112,
                    0.38801565633141943,
                    1.7846505906915915,
                    0.5365071477542049,
                    0.07375521082937886,
                    -0.15329366826503987,
                    1.1194333075979863,
                    -0.6612246624242297,
                    1.5251854883771447,
                    0.5676277530910994,
                    -0.5387206984893931,
                    0.7492269388504684,
                    1.0019274644136973,
                    0.026169204948785607,
                    -0.7143159851220364,
                    -0.0897281982474627,
                    -0.7307463414042035,
                    1.6868777934452683,
                    1.6002485197917478,
                    -0.14965468555964523,
                    -0.894949244500012,
                    -0.8189235340227146,
                    0.09315203198494237,
                    -0.8760297961290611,
                    -0.497663022253763,
                    1.262568115045126,
                    1.4633935177721928,
                    -0.8712931385977847,
                    -0.4433832544633769,
                    -0.7948395784110802,
                    0.8098457914450135,
                    -0.11660378093437851,
                    -0.4236009212353884,
                    1.174479222310749,
                    0.06367033979243852,
                    0.647333699506859,
                    -0.29977964386194644,
                    0.6799144673865347,
                    0.6093670741183737,
                    0.36723996422450544,
                    -0.48909067167238307,
                    -0.6812623527574782,
                    1.4750303740820259,
                    -0.75146190824448,
                    -0.006001491168682538,
                    0.5924487296906686,
                    -0.5235627825685016,
                    0.8922126126082264,
                    0.33582124214971976,
                    -0.8369775447614434,
                    0.24660441446856107,
                    -0.8524121322729823,
                    0.08646610663540888,
                    1.153523585018265,
                    -0.12154794114597212,
                    -0.5887805486883939
                  ],
                  "yaxis": "y"
                },
                {
                  "line": {
                    "color": "black",
                    "dash": "dash"
                  },
                  "mode": "lines",
                  "name": "Perfect Prediction",
                  "type": "scatter",
                  "x": [
                    -1.6143267488861697,
                    4.566365125868969
                  ],
                  "y": [
                    -1.6143267488861697,
                    4.566365125868969
                  ]
                }
              ],
              "layout": {
                "legend": {
                  "tracegroupgap": 0
                },
                "template": {
                  "data": {
                    "bar": [
                      {
                        "error_x": {
                          "color": "#2a3f5f"
                        },
                        "error_y": {
                          "color": "#2a3f5f"
                        },
                        "marker": {
                          "line": {
                            "color": "#E5ECF6",
                            "width": 0.5
                          },
                          "pattern": {
                            "fillmode": "overlay",
                            "size": 10,
                            "solidity": 0.2
                          }
                        },
                        "type": "bar"
                      }
                    ],
                    "barpolar": [
                      {
                        "marker": {
                          "line": {
                            "color": "#E5ECF6",
                            "width": 0.5
                          },
                          "pattern": {
                            "fillmode": "overlay",
                            "size": 10,
                            "solidity": 0.2
                          }
                        },
                        "type": "barpolar"
                      }
                    ],
                    "carpet": [
                      {
                        "aaxis": {
                          "endlinecolor": "#2a3f5f",
                          "gridcolor": "white",
                          "linecolor": "white",
                          "minorgridcolor": "white",
                          "startlinecolor": "#2a3f5f"
                        },
                        "baxis": {
                          "endlinecolor": "#2a3f5f",
                          "gridcolor": "white",
                          "linecolor": "white",
                          "minorgridcolor": "white",
                          "startlinecolor": "#2a3f5f"
                        },
                        "type": "carpet"
                      }
                    ],
                    "choropleth": [
                      {
                        "colorbar": {
                          "outlinewidth": 0,
                          "ticks": ""
                        },
                        "type": "choropleth"
                      }
                    ],
                    "contour": [
                      {
                        "colorbar": {
                          "outlinewidth": 0,
                          "ticks": ""
                        },
                        "colorscale": [
                          [
                            0,
                            "#0d0887"
                          ],
                          [
                            0.1111111111111111,
                            "#46039f"
                          ],
                          [
                            0.2222222222222222,
                            "#7201a8"
                          ],
                          [
                            0.3333333333333333,
                            "#9c179e"
                          ],
                          [
                            0.4444444444444444,
                            "#bd3786"
                          ],
                          [
                            0.5555555555555556,
                            "#d8576b"
                          ],
                          [
                            0.6666666666666666,
                            "#ed7953"
                          ],
                          [
                            0.7777777777777778,
                            "#fb9f3a"
                          ],
                          [
                            0.8888888888888888,
                            "#fdca26"
                          ],
                          [
                            1,
                            "#f0f921"
                          ]
                        ],
                        "type": "contour"
                      }
                    ],
                    "contourcarpet": [
                      {
                        "colorbar": {
                          "outlinewidth": 0,
                          "ticks": ""
                        },
                        "type": "contourcarpet"
                      }
                    ],
                    "heatmap": [
                      {
                        "colorbar": {
                          "outlinewidth": 0,
                          "ticks": ""
                        },
                        "colorscale": [
                          [
                            0,
                            "#0d0887"
                          ],
                          [
                            0.1111111111111111,
                            "#46039f"
                          ],
                          [
                            0.2222222222222222,
                            "#7201a8"
                          ],
                          [
                            0.3333333333333333,
                            "#9c179e"
                          ],
                          [
                            0.4444444444444444,
                            "#bd3786"
                          ],
                          [
                            0.5555555555555556,
                            "#d8576b"
                          ],
                          [
                            0.6666666666666666,
                            "#ed7953"
                          ],
                          [
                            0.7777777777777778,
                            "#fb9f3a"
                          ],
                          [
                            0.8888888888888888,
                            "#fdca26"
                          ],
                          [
                            1,
                            "#f0f921"
                          ]
                        ],
                        "type": "heatmap"
                      }
                    ],
                    "heatmapgl": [
                      {
                        "colorbar": {
                          "outlinewidth": 0,
                          "ticks": ""
                        },
                        "colorscale": [
                          [
                            0,
                            "#0d0887"
                          ],
                          [
                            0.1111111111111111,
                            "#46039f"
                          ],
                          [
                            0.2222222222222222,
                            "#7201a8"
                          ],
                          [
                            0.3333333333333333,
                            "#9c179e"
                          ],
                          [
                            0.4444444444444444,
                            "#bd3786"
                          ],
                          [
                            0.5555555555555556,
                            "#d8576b"
                          ],
                          [
                            0.6666666666666666,
                            "#ed7953"
                          ],
                          [
                            0.7777777777777778,
                            "#fb9f3a"
                          ],
                          [
                            0.8888888888888888,
                            "#fdca26"
                          ],
                          [
                            1,
                            "#f0f921"
                          ]
                        ],
                        "type": "heatmapgl"
                      }
                    ],
                    "histogram": [
                      {
                        "marker": {
                          "pattern": {
                            "fillmode": "overlay",
                            "size": 10,
                            "solidity": 0.2
                          }
                        },
                        "type": "histogram"
                      }
                    ],
                    "histogram2d": [
                      {
                        "colorbar": {
                          "outlinewidth": 0,
                          "ticks": ""
                        },
                        "colorscale": [
                          [
                            0,
                            "#0d0887"
                          ],
                          [
                            0.1111111111111111,
                            "#46039f"
                          ],
                          [
                            0.2222222222222222,
                            "#7201a8"
                          ],
                          [
                            0.3333333333333333,
                            "#9c179e"
                          ],
                          [
                            0.4444444444444444,
                            "#bd3786"
                          ],
                          [
                            0.5555555555555556,
                            "#d8576b"
                          ],
                          [
                            0.6666666666666666,
                            "#ed7953"
                          ],
                          [
                            0.7777777777777778,
                            "#fb9f3a"
                          ],
                          [
                            0.8888888888888888,
                            "#fdca26"
                          ],
                          [
                            1,
                            "#f0f921"
                          ]
                        ],
                        "type": "histogram2d"
                      }
                    ],
                    "histogram2dcontour": [
                      {
                        "colorbar": {
                          "outlinewidth": 0,
                          "ticks": ""
                        },
                        "colorscale": [
                          [
                            0,
                            "#0d0887"
                          ],
                          [
                            0.1111111111111111,
                            "#46039f"
                          ],
                          [
                            0.2222222222222222,
                            "#7201a8"
                          ],
                          [
                            0.3333333333333333,
                            "#9c179e"
                          ],
                          [
                            0.4444444444444444,
                            "#bd3786"
                          ],
                          [
                            0.5555555555555556,
                            "#d8576b"
                          ],
                          [
                            0.6666666666666666,
                            "#ed7953"
                          ],
                          [
                            0.7777777777777778,
                            "#fb9f3a"
                          ],
                          [
                            0.8888888888888888,
                            "#fdca26"
                          ],
                          [
                            1,
                            "#f0f921"
                          ]
                        ],
                        "type": "histogram2dcontour"
                      }
                    ],
                    "mesh3d": [
                      {
                        "colorbar": {
                          "outlinewidth": 0,
                          "ticks": ""
                        },
                        "type": "mesh3d"
                      }
                    ],
                    "parcoords": [
                      {
                        "line": {
                          "colorbar": {
                            "outlinewidth": 0,
                            "ticks": ""
                          }
                        },
                        "type": "parcoords"
                      }
                    ],
                    "pie": [
                      {
                        "automargin": true,
                        "type": "pie"
                      }
                    ],
                    "scatter": [
                      {
                        "fillpattern": {
                          "fillmode": "overlay",
                          "size": 10,
                          "solidity": 0.2
                        },
                        "type": "scatter"
                      }
                    ],
                    "scatter3d": [
                      {
                        "line": {
                          "colorbar": {
                            "outlinewidth": 0,
                            "ticks": ""
                          }
                        },
                        "marker": {
                          "colorbar": {
                            "outlinewidth": 0,
                            "ticks": ""
                          }
                        },
                        "type": "scatter3d"
                      }
                    ],
                    "scattercarpet": [
                      {
                        "marker": {
                          "colorbar": {
                            "outlinewidth": 0,
                            "ticks": ""
                          }
                        },
                        "type": "scattercarpet"
                      }
                    ],
                    "scattergeo": [
                      {
                        "marker": {
                          "colorbar": {
                            "outlinewidth": 0,
                            "ticks": ""
                          }
                        },
                        "type": "scattergeo"
                      }
                    ],
                    "scattergl": [
                      {
                        "marker": {
                          "colorbar": {
                            "outlinewidth": 0,
                            "ticks": ""
                          }
                        },
                        "type": "scattergl"
                      }
                    ],
                    "scattermapbox": [
                      {
                        "marker": {
                          "colorbar": {
                            "outlinewidth": 0,
                            "ticks": ""
                          }
                        },
                        "type": "scattermapbox"
                      }
                    ],
                    "scatterpolar": [
                      {
                        "marker": {
                          "colorbar": {
                            "outlinewidth": 0,
                            "ticks": ""
                          }
                        },
                        "type": "scatterpolar"
                      }
                    ],
                    "scatterpolargl": [
                      {
                        "marker": {
                          "colorbar": {
                            "outlinewidth": 0,
                            "ticks": ""
                          }
                        },
                        "type": "scatterpolargl"
                      }
                    ],
                    "scatterternary": [
                      {
                        "marker": {
                          "colorbar": {
                            "outlinewidth": 0,
                            "ticks": ""
                          }
                        },
                        "type": "scatterternary"
                      }
                    ],
                    "surface": [
                      {
                        "colorbar": {
                          "outlinewidth": 0,
                          "ticks": ""
                        },
                        "colorscale": [
                          [
                            0,
                            "#0d0887"
                          ],
                          [
                            0.1111111111111111,
                            "#46039f"
                          ],
                          [
                            0.2222222222222222,
                            "#7201a8"
                          ],
                          [
                            0.3333333333333333,
                            "#9c179e"
                          ],
                          [
                            0.4444444444444444,
                            "#bd3786"
                          ],
                          [
                            0.5555555555555556,
                            "#d8576b"
                          ],
                          [
                            0.6666666666666666,
                            "#ed7953"
                          ],
                          [
                            0.7777777777777778,
                            "#fb9f3a"
                          ],
                          [
                            0.8888888888888888,
                            "#fdca26"
                          ],
                          [
                            1,
                            "#f0f921"
                          ]
                        ],
                        "type": "surface"
                      }
                    ],
                    "table": [
                      {
                        "cells": {
                          "fill": {
                            "color": "#EBF0F8"
                          },
                          "line": {
                            "color": "white"
                          }
                        },
                        "header": {
                          "fill": {
                            "color": "#C8D4E3"
                          },
                          "line": {
                            "color": "white"
                          }
                        },
                        "type": "table"
                      }
                    ]
                  },
                  "layout": {
                    "annotationdefaults": {
                      "arrowcolor": "#2a3f5f",
                      "arrowhead": 0,
                      "arrowwidth": 1
                    },
                    "autotypenumbers": "strict",
                    "coloraxis": {
                      "colorbar": {
                        "outlinewidth": 0,
                        "ticks": ""
                      }
                    },
                    "colorscale": {
                      "diverging": [
                        [
                          0,
                          "#8e0152"
                        ],
                        [
                          0.1,
                          "#c51b7d"
                        ],
                        [
                          0.2,
                          "#de77ae"
                        ],
                        [
                          0.3,
                          "#f1b6da"
                        ],
                        [
                          0.4,
                          "#fde0ef"
                        ],
                        [
                          0.5,
                          "#f7f7f7"
                        ],
                        [
                          0.6,
                          "#e6f5d0"
                        ],
                        [
                          0.7,
                          "#b8e186"
                        ],
                        [
                          0.8,
                          "#7fbc41"
                        ],
                        [
                          0.9,
                          "#4d9221"
                        ],
                        [
                          1,
                          "#276419"
                        ]
                      ],
                      "sequential": [
                        [
                          0,
                          "#0d0887"
                        ],
                        [
                          0.1111111111111111,
                          "#46039f"
                        ],
                        [
                          0.2222222222222222,
                          "#7201a8"
                        ],
                        [
                          0.3333333333333333,
                          "#9c179e"
                        ],
                        [
                          0.4444444444444444,
                          "#bd3786"
                        ],
                        [
                          0.5555555555555556,
                          "#d8576b"
                        ],
                        [
                          0.6666666666666666,
                          "#ed7953"
                        ],
                        [
                          0.7777777777777778,
                          "#fb9f3a"
                        ],
                        [
                          0.8888888888888888,
                          "#fdca26"
                        ],
                        [
                          1,
                          "#f0f921"
                        ]
                      ],
                      "sequentialminus": [
                        [
                          0,
                          "#0d0887"
                        ],
                        [
                          0.1111111111111111,
                          "#46039f"
                        ],
                        [
                          0.2222222222222222,
                          "#7201a8"
                        ],
                        [
                          0.3333333333333333,
                          "#9c179e"
                        ],
                        [
                          0.4444444444444444,
                          "#bd3786"
                        ],
                        [
                          0.5555555555555556,
                          "#d8576b"
                        ],
                        [
                          0.6666666666666666,
                          "#ed7953"
                        ],
                        [
                          0.7777777777777778,
                          "#fb9f3a"
                        ],
                        [
                          0.8888888888888888,
                          "#fdca26"
                        ],
                        [
                          1,
                          "#f0f921"
                        ]
                      ]
                    },
                    "colorway": [
                      "#636efa",
                      "#EF553B",
                      "#00cc96",
                      "#ab63fa",
                      "#FFA15A",
                      "#19d3f3",
                      "#FF6692",
                      "#B6E880",
                      "#FF97FF",
                      "#FECB52"
                    ],
                    "font": {
                      "color": "#2a3f5f"
                    },
                    "geo": {
                      "bgcolor": "white",
                      "lakecolor": "white",
                      "landcolor": "#E5ECF6",
                      "showlakes": true,
                      "showland": true,
                      "subunitcolor": "white"
                    },
                    "hoverlabel": {
                      "align": "left"
                    },
                    "hovermode": "closest",
                    "mapbox": {
                      "style": "light"
                    },
                    "paper_bgcolor": "white",
                    "plot_bgcolor": "#E5ECF6",
                    "polar": {
                      "angularaxis": {
                        "gridcolor": "white",
                        "linecolor": "white",
                        "ticks": ""
                      },
                      "bgcolor": "#E5ECF6",
                      "radialaxis": {
                        "gridcolor": "white",
                        "linecolor": "white",
                        "ticks": ""
                      }
                    },
                    "scene": {
                      "xaxis": {
                        "backgroundcolor": "#E5ECF6",
                        "gridcolor": "white",
                        "gridwidth": 2,
                        "linecolor": "white",
                        "showbackground": true,
                        "ticks": "",
                        "zerolinecolor": "white"
                      },
                      "yaxis": {
                        "backgroundcolor": "#E5ECF6",
                        "gridcolor": "white",
                        "gridwidth": 2,
                        "linecolor": "white",
                        "showbackground": true,
                        "ticks": "",
                        "zerolinecolor": "white"
                      },
                      "zaxis": {
                        "backgroundcolor": "#E5ECF6",
                        "gridcolor": "white",
                        "gridwidth": 2,
                        "linecolor": "white",
                        "showbackground": true,
                        "ticks": "",
                        "zerolinecolor": "white"
                      }
                    },
                    "shapedefaults": {
                      "line": {
                        "color": "#2a3f5f"
                      }
                    },
                    "ternary": {
                      "aaxis": {
                        "gridcolor": "white",
                        "linecolor": "white",
                        "ticks": ""
                      },
                      "baxis": {
                        "gridcolor": "white",
                        "linecolor": "white",
                        "ticks": ""
                      },
                      "bgcolor": "#E5ECF6",
                      "caxis": {
                        "gridcolor": "white",
                        "linecolor": "white",
                        "ticks": ""
                      }
                    },
                    "title": {
                      "x": 0.05
                    },
                    "xaxis": {
                      "automargin": true,
                      "gridcolor": "white",
                      "linecolor": "white",
                      "ticks": "",
                      "title": {
                        "standoff": 15
                      },
                      "zerolinecolor": "white",
                      "zerolinewidth": 2
                    },
                    "yaxis": {
                      "automargin": true,
                      "gridcolor": "white",
                      "linecolor": "white",
                      "ticks": "",
                      "title": {
                        "standoff": 15
                      },
                      "zerolinecolor": "white",
                      "zerolinewidth": 2
                    }
                  }
                },
                "title": {
                  "text": "Actual vs Predicted Prices (Validation Set)"
                },
                "xaxis": {
                  "anchor": "y",
                  "domain": [
                    0,
                    1
                  ],
                  "title": {
                    "text": "Actual Price Scaled"
                  }
                },
                "yaxis": {
                  "anchor": "x",
                  "domain": [
                    0,
                    1
                  ],
                  "title": {
                    "text": "Predicted Price Scaled"
                  }
                }
              }
            }
          },
          "metadata": {},
          "output_type": "display_data"
        }
      ],
      "source": [
        "fig_valid = px.scatter(\n",
        "    x=y_valid, \n",
        "    y=y_pred_valid,\n",
        "    opacity=0.6,\n",
        "    color_discrete_sequence=[\"blue\"], \n",
        "    labels={\"x\": \"Actual Price Scaled\", \"y\": \"Predicted Price Scaled\"},\n",
        "    title=\"Actual vs Predicted Prices (Validation Set)\"\n",
        ")\n",
        "\n",
        "# Add perfect prediction line\n",
        "fig_valid.add_trace(\n",
        "    go.Scatter(\n",
        "        x=[y_valid.min(), y_valid.max()],\n",
        "        y=[y_valid.min(), y_valid.max()],\n",
        "        mode=\"lines\",\n",
        "        line=dict(color=\"black\", dash=\"dash\"),\n",
        "        name=\"Perfect Prediction\"\n",
        "    )\n",
        ")"
      ]
    },
    {
      "cell_type": "code",
      "execution_count": 557,
      "metadata": {
        "colab": {
          "base_uri": "https://localhost:8080/",
          "height": 564
        },
        "id": "fsCk8cYtFYrv",
        "outputId": "2b43b621-fc91-4bce-b919-17a0d7bf9270"
      },
      "outputs": [
        {
          "data": {
            "image/png": "[encoded data removed]",
            "text/plain": [
              "<Figure size 1000x600 with 1 Axes>"
            ]
          },
          "metadata": {},
          "output_type": "display_data"
        }
      ],
      "source": [
        "plt.figure(figsize=(10, 6))\n",
        "plt.scatter(y_test, y_pred_test, color='red', alpha=0.6, label='Test')\n",
        "plt.plot([y_test.min(), y_test.max()], [y_test.min(), y_test.max()], 'k--', lw=2, label='Perfect Prediction')\n",
        "plt.xlabel(\"Actual Price Scaled\")\n",
        "plt.ylabel(\"Predicted Price Scaled\")\n",
        "plt.title(\"Actual vs Predicted Prices (Test Set)\")\n",
        "plt.legend()\n",
        "plt.show()"
      ]
    },
    {
      "cell_type": "code",
      "execution_count": 558,
      "metadata": {},
      "outputs": [
        {
          "data": {
            "application/vnd.plotly.v1+json": {
              "config": {
                "plotlyServerURL": "https://plot.ly"
              },
              "data": [
                {
                  "hovertemplate": "Actual Price Scaled=%{x}<br>Predicted Price Scaled=%{y}<extra></extra>",
                  "legendgroup": "",
                  "marker": {
                    "color": "red",
                    "opacity": 0.6,
                    "symbol": "circle"
                  },
                  "mode": "markers",
                  "name": "",
                  "orientation": "v",
                  "showlegend": false,
                  "type": "scatter",
                  "x": [
                    -0.11972307735447271,
                    0.8204912623810058,
                    0.8766793703333252,
                    -0.7565216341474262,
                    0.20242207490549205,
                    -0.6965876523316189,
                    -0.13470657280842455,
                    3.985754677028334,
                    -1.277198101172253,
                    2.2064645918715518,
                    -0.5280233284746606,
                    -0.677858283014179,
                    0.015128381731093928,
                    -0.30327089666538287,
                    -0.677858283014179,
                    -0.26581215803050323,
                    2.187735222554112,
                    -0.8988648409599689,
                    4.004484046345774,
                    0.07131648968341336,
                    0.7643031544286863,
                    -0.22835341939562362,
                    0.9703262169205242,
                    -0.34072963530026246,
                    0.8954087396507651,
                    -0.4062824279113018,
                    -0.07851846485610513,
                    -0.5654820671095402,
                    -0.9026107148234568,
                    -0.49056458983978096,
                    -1.1086337773152948,
                    -0.07851846485610513,
                    -0.15343594212586437,
                    1.1576199100949225,
                    -0.30327089666538287,
                    2.2439233305064312,
                    -1.6143267488861697,
                    -0.9775281920932161,
                    0.40844513739732996,
                    1.9442534214273945,
                    1.7101363049593967,
                    1.007784955555404,
                    -0.5692279409730282,
                    -0.11597720349098475,
                    -0.15343594212586437,
                    0.20242207490549205,
                    -1.5394092716164103,
                    0.6331975692066076,
                    -1.4270330557117714,
                    -1.1273631466327345,
                    0.03385775104853374,
                    -0.22835341939562362,
                    -0.11972307735447271,
                    -0.04105972622122551,
                    1.1201611714600428,
                    -0.8651519761885772,
                    -0.5317692023381485,
                    -0.677858283014179,
                    0.8954087396507651,
                    0.9890555862379641,
                    -1.0149869307280956,
                    -0.30327089666538287,
                    -0.49056458983978096,
                    0.3297817862640828,
                    -0.5280233284746606,
                    1.3261842339518808,
                    0.23988081354037166,
                    1.3823723419042002,
                    -0.30701677052887083,
                    0.25861018285781145,
                    -0.9400694534583365,
                    -0.7527757602839383,
                    1.007784955555404,
                    -1.2397393625373734,
                    -1.3333862091245725,
                    2.3188408077761906,
                    0.40844513739732996,
                    -0.9400694534583365,
                    0.25861018285781145,
                    1.4760191884913991,
                    1.007784955555404,
                    -0.677858283014179,
                    0.6706563078414873,
                    1.378626468040712,
                    1.5696660350785983,
                    -0.6216701750618596,
                    -0.49056458983978096,
                    -0.3444755091637504,
                    -0.9213400841408966,
                    -0.9775281920932161,
                    0.25861018285781145,
                    1.2699961259995614,
                    1.082702432825163,
                    -1.5394092716164103,
                    0.7081150464763669,
                    -0.8651519761885772,
                    2.6934281941249867,
                    -1.2397393625373734,
                    0.2773395521752513,
                    0.07131648968341336,
                    -0.32200026598282266,
                    -0.3575860676859583,
                    -1.277198101172253,
                    -0.04105972622122551,
                    2.3188408077761906,
                    -0.19464055462423197,
                    0.5208213533019688,
                    0.015128381731093928,
                    0.4459038760322096,
                    -0.30327089666538287,
                    1.0265143248728437,
                    0.10877522831829298,
                    -0.9775281920932161,
                    -0.7153170216490587,
                    0.4459038760322096,
                    -1.0149869307280956,
                    0.595738830571728,
                    -0.5692279409730282,
                    -1.3558614523055001,
                    0.6331975692066076,
                    -0.284541527347943,
                    -0.5280233284746606,
                    0.5582800919368485,
                    -1.1273631466327345,
                    -0.4531058512049013,
                    2.880721887299385,
                    -0.13470657280842455,
                    1.007784955555404,
                    0.5208213533019688,
                    -0.5654820671095402,
                    -0.11597720349098475,
                    0.25861018285781145,
                    -0.7902344989188179,
                    1.1388905407774825,
                    0.18369270558805223,
                    -1.277198101172253,
                    1.9442534214273945,
                    -1.6051493579206242,
                    0.8204912623810058,
                    -1.1273631466327345,
                    -0.7153170216490587,
                    -0.8651519761885772,
                    1.3074548646344408,
                    -0.8089638682362578,
                    -0.3969177432525819,
                    -0.6029408057444199,
                    -0.30327089666538287,
                    -0.04105972622122551,
                    1.9779662861987861,
                    -0.4531058512049013,
                    -0.677858283014179,
                    0.1275045976357328,
                    0.07131648968341336,
                    0.07131648968341336,
                    -0.7153170216490587,
                    1.4385604498565197,
                    -1.2022806239024937,
                    -0.8651519761885772,
                    0.6294516953431197,
                    -0.9775281920932161,
                    -0.15718181598935232,
                    -0.47183522052234117,
                    -0.9775281920932161,
                    -0.7902344989188179
                  ],
                  "xaxis": "x",
                  "y": [
                    0.0821360972339289,
                    1.2589061771950878,
                    1.115601032936867,
                    -1.0065977694717725,
                    -0.5337526452332872,
                    -0.38987704831075254,
                    -0.45598766460934437,
                    1.9052700699753855,
                    -1.1536569326090094,
                    1.0690902690643662,
                    -0.28142117198675654,
                    -0.7984345099155481,
                    -0.09372435945639279,
                    -0.5140047958881433,
                    0.4315248367524205,
                    -0.5141358130124012,
                    0.9326161563052768,
                    -0.25671775973606015,
                    1.4821572813118673,
                    -0.5178835658362582,
                    1.0475486665851734,
                    0.02432812029930287,
                    0.8856719827545259,
                    -0.24919735785868657,
                    1.7642310589417043,
                    -0.20880131463395224,
                    -0.2306662136699369,
                    -0.45804893558010495,
                    -0.31686197139224936,
                    -0.5812494966611796,
                    -1.041387558523973,
                    0.396578266900091,
                    0.048727632270011645,
                    1.604313045917414,
                    -1.0283189280564207,
                    1.7521466583783754,
                    -0.9745643882790311,
                    -0.2000301319980029,
                    0.14730361291164162,
                    0.8756219777360739,
                    0.8028338748761576,
                    1.1072301147626564,
                    -0.19203389051164543,
                    0.2211218926406595,
                    -0.23069686284337387,
                    0.15832181378941956,
                    -1.1163763593838847,
                    0.6638207561296985,
                    -1.0095984220747467,
                    -1.0125972549725983,
                    -0.22842180650117783,
                    -0.6958406618089612,
                    0.9270939734612782,
                    -0.33684943271176215,
                    0.22866579827448796,
                    -0.15133875293522192,
                    0.40158160572130064,
                    -0.7546125268937163,
                    -0.08248528884034112,
                    1.7685244761899421,
                    -1.0978273253873745,
                    -0.1728279011848195,
                    0.013947336435125468,
                    0.9182494081766761,
                    -0.4738392712407211,
                    2.1822566179821266,
                    0.5876587905211828,
                    0.06269822001324044,
                    0.5740740372233362,
                    1.2067413797109567,
                    -0.8036695429785519,
                    -0.8558252124016428,
                    0.5660977152967577,
                    -0.7459964768836722,
                    -1.1994097813582458,
                    1.3626110586398477,
                    0.8927082377031479,
                    -0.9773880773930522,
                    0.3772406024852757,
                    1.2115407162970635,
                    0.4829004594279491,
                    -0.7405135205795295,
                    0.4980165075315319,
                    1.1761533716601476,
                    1.1107909041557085,
                    -0.7985050357378687,
                    0.41239316599532905,
                    -0.18709613488481036,
                    -1.071895540612298,
                    -0.8760232623583102,
                    0.7723225385646317,
                    0.5928806116192169,
                    0.6184038816461712,
                    -1.0949290670889835,
                    0.7510366104273583,
                    -0.9455833703833805,
                    1.2446813376297674,
                    -0.6718506200301546,
                    0.3802603331962462,
                    1.0765505477780655,
                    -0.26820647301303047,
                    0.07564068075090602,
                    -0.027642657902191115,
                    -0.5592304244041775,
                    0.34745606590825884,
                    -0.6116303385707837,
                    1.0615275406712879,
                    1.3662017900952301,
                    0.7667717575900783,
                    -0.5638460174640882,
                    1.0436430952909796,
                    0.7922990576332454,
                    -0.10988909048701578,
                    -0.38987704831075254,
                    0.27599059288913286,
                    -0.56969517007543,
                    0.24007316022611724,
                    -0.486979553253033,
                    -0.42118598000654917,
                    0.5058032281962908,
                    -0.4122710649590233,
                    0.12226934852700988,
                    0.3693958836566009,
                    0.177865638953836,
                    0.16036983814760686,
                    2.3455713262761693,
                    -0.5064089970499159,
                    0.960851199779815,
                    0.688551433100909,
                    -0.4025699410186725,
                    0.8265200885319108,
                    -0.018095172818656025,
                    -0.20393458253602348,
                    0.4312201257656001,
                    -0.703884001222896,
                    -0.6649327936610423,
                    1.115065349572349,
                    -1.2189723101695515,
                    0.7896267864973778,
                    -1.1158400147674312,
                    -1.041387558523973,
                    -0.4686284739588733,
                    1.4579050914440648,
                    -1.2607942510456478,
                    -0.07485518212217257,
                    0.2205227699236223,
                    0.05111855900815998,
                    0.33426083657487093,
                    1.504363191415094,
                    1.3171387160129904,
                    -0.8569449759369994,
                    0.8085181708090057,
                    -0.18816897389826082,
                    -0.4830235611415643,
                    -0.6052382073684386,
                    0.13477629574303607,
                    -1.2666037475903746,
                    -1.1185417791098522,
                    1.6856925369260514,
                    -1.115193205758265,
                    -0.6736665539192508,
                    -0.2805213646526279,
                    -0.727715484046014,
                    -0.52205486288822
                  ],
                  "yaxis": "y"
                },
                {
                  "line": {
                    "color": "black",
                    "dash": "dash"
                  },
                  "mode": "lines",
                  "name": "Perfect Prediction",
                  "type": "scatter",
                  "x": [
                    -1.6143267488861697,
                    4.004484046345774
                  ],
                  "y": [
                    -1.6143267488861697,
                    4.004484046345774
                  ]
                }
              ],
              "layout": {
                "legend": {
                  "tracegroupgap": 0
                },
                "template": {
                  "data": {
                    "bar": [
                      {
                        "error_x": {
                          "color": "#2a3f5f"
                        },
                        "error_y": {
                          "color": "#2a3f5f"
                        },
                        "marker": {
                          "line": {
                            "color": "#E5ECF6",
                            "width": 0.5
                          },
                          "pattern": {
                            "fillmode": "overlay",
                            "size": 10,
                            "solidity": 0.2
                          }
                        },
                        "type": "bar"
                      }
                    ],
                    "barpolar": [
                      {
                        "marker": {
                          "line": {
                            "color": "#E5ECF6",
                            "width": 0.5
                          },
                          "pattern": {
                            "fillmode": "overlay",
                            "size": 10,
                            "solidity": 0.2
                          }
                        },
                        "type": "barpolar"
                      }
                    ],
                    "carpet": [
                      {
                        "aaxis": {
                          "endlinecolor": "#2a3f5f",
                          "gridcolor": "white",
                          "linecolor": "white",
                          "minorgridcolor": "white",
                          "startlinecolor": "#2a3f5f"
                        },
                        "baxis": {
                          "endlinecolor": "#2a3f5f",
                          "gridcolor": "white",
                          "linecolor": "white",
                          "minorgridcolor": "white",
                          "startlinecolor": "#2a3f5f"
                        },
                        "type": "carpet"
                      }
                    ],
                    "choropleth": [
                      {
                        "colorbar": {
                          "outlinewidth": 0,
                          "ticks": ""
                        },
                        "type": "choropleth"
                      }
                    ],
                    "contour": [
                      {
                        "colorbar": {
                          "outlinewidth": 0,
                          "ticks": ""
                        },
                        "colorscale": [
                          [
                            0,
                            "#0d0887"
                          ],
                          [
                            0.1111111111111111,
                            "#46039f"
                          ],
                          [
                            0.2222222222222222,
                            "#7201a8"
                          ],
                          [
                            0.3333333333333333,
                            "#9c179e"
                          ],
                          [
                            0.4444444444444444,
                            "#bd3786"
                          ],
                          [
                            0.5555555555555556,
                            "#d8576b"
                          ],
                          [
                            0.6666666666666666,
                            "#ed7953"
                          ],
                          [
                            0.7777777777777778,
                            "#fb9f3a"
                          ],
                          [
                            0.8888888888888888,
                            "#fdca26"
                          ],
                          [
                            1,
                            "#f0f921"
                          ]
                        ],
                        "type": "contour"
                      }
                    ],
                    "contourcarpet": [
                      {
                        "colorbar": {
                          "outlinewidth": 0,
                          "ticks": ""
                        },
                        "type": "contourcarpet"
                      }
                    ],
                    "heatmap": [
                      {
                        "colorbar": {
                          "outlinewidth": 0,
                          "ticks": ""
                        },
                        "colorscale": [
                          [
                            0,
                            "#0d0887"
                          ],
                          [
                            0.1111111111111111,
                            "#46039f"
                          ],
                          [
                            0.2222222222222222,
                            "#7201a8"
                          ],
                          [
                            0.3333333333333333,
                            "#9c179e"
                          ],
                          [
                            0.4444444444444444,
                            "#bd3786"
                          ],
                          [
                            0.5555555555555556,
                            "#d8576b"
                          ],
                          [
                            0.6666666666666666,
                            "#ed7953"
                          ],
                          [
                            0.7777777777777778,
                            "#fb9f3a"
                          ],
                          [
                            0.8888888888888888,
                            "#fdca26"
                          ],
                          [
                            1,
                            "#f0f921"
                          ]
                        ],
                        "type": "heatmap"
                      }
                    ],
                    "heatmapgl": [
                      {
                        "colorbar": {
                          "outlinewidth": 0,
                          "ticks": ""
                        },
                        "colorscale": [
                          [
                            0,
                            "#0d0887"
                          ],
                          [
                            0.1111111111111111,
                            "#46039f"
                          ],
                          [
                            0.2222222222222222,
                            "#7201a8"
                          ],
                          [
                            0.3333333333333333,
                            "#9c179e"
                          ],
                          [
                            0.4444444444444444,
                            "#bd3786"
                          ],
                          [
                            0.5555555555555556,
                            "#d8576b"
                          ],
                          [
                            0.6666666666666666,
                            "#ed7953"
                          ],
                          [
                            0.7777777777777778,
                            "#fb9f3a"
                          ],
                          [
                            0.8888888888888888,
                            "#fdca26"
                          ],
                          [
                            1,
                            "#f0f921"
                          ]
                        ],
                        "type": "heatmapgl"
                      }
                    ],
                    "histogram": [
                      {
                        "marker": {
                          "pattern": {
                            "fillmode": "overlay",
                            "size": 10,
                            "solidity": 0.2
                          }
                        },
                        "type": "histogram"
                      }
                    ],
                    "histogram2d": [
                      {
                        "colorbar": {
                          "outlinewidth": 0,
                          "ticks": ""
                        },
                        "colorscale": [
                          [
                            0,
                            "#0d0887"
                          ],
                          [
                            0.1111111111111111,
                            "#46039f"
                          ],
                          [
                            0.2222222222222222,
                            "#7201a8"
                          ],
                          [
                            0.3333333333333333,
                            "#9c179e"
                          ],
                          [
                            0.4444444444444444,
                            "#bd3786"
                          ],
                          [
                            0.5555555555555556,
                            "#d8576b"
                          ],
                          [
                            0.6666666666666666,
                            "#ed7953"
                          ],
                          [
                            0.7777777777777778,
                            "#fb9f3a"
                          ],
                          [
                            0.8888888888888888,
                            "#fdca26"
                          ],
                          [
                            1,
                            "#f0f921"
                          ]
                        ],
                        "type": "histogram2d"
                      }
                    ],
                    "histogram2dcontour": [
                      {
                        "colorbar": {
                          "outlinewidth": 0,
                          "ticks": ""
                        },
                        "colorscale": [
                          [
                            0,
                            "#0d0887"
                          ],
                          [
                            0.1111111111111111,
                            "#46039f"
                          ],
                          [
                            0.2222222222222222,
                            "#7201a8"
                          ],
                          [
                            0.3333333333333333,
                            "#9c179e"
                          ],
                          [
                            0.4444444444444444,
                            "#bd3786"
                          ],
                          [
                            0.5555555555555556,
                            "#d8576b"
                          ],
                          [
                            0.6666666666666666,
                            "#ed7953"
                          ],
                          [
                            0.7777777777777778,
                            "#fb9f3a"
                          ],
                          [
                            0.8888888888888888,
                            "#fdca26"
                          ],
                          [
                            1,
                            "#f0f921"
                          ]
                        ],
                        "type": "histogram2dcontour"
                      }
                    ],
                    "mesh3d": [
                      {
                        "colorbar": {
                          "outlinewidth": 0,
                          "ticks": ""
                        },
                        "type": "mesh3d"
                      }
                    ],
                    "parcoords": [
                      {
                        "line": {
                          "colorbar": {
                            "outlinewidth": 0,
                            "ticks": ""
                          }
                        },
                        "type": "parcoords"
                      }
                    ],
                    "pie": [
                      {
                        "automargin": true,
                        "type": "pie"
                      }
                    ],
                    "scatter": [
                      {
                        "fillpattern": {
                          "fillmode": "overlay",
                          "size": 10,
                          "solidity": 0.2
                        },
                        "type": "scatter"
                      }
                    ],
                    "scatter3d": [
                      {
                        "line": {
                          "colorbar": {
                            "outlinewidth": 0,
                            "ticks": ""
                          }
                        },
                        "marker": {
                          "colorbar": {
                            "outlinewidth": 0,
                            "ticks": ""
                          }
                        },
                        "type": "scatter3d"
                      }
                    ],
                    "scattercarpet": [
                      {
                        "marker": {
                          "colorbar": {
                            "outlinewidth": 0,
                            "ticks": ""
                          }
                        },
                        "type": "scattercarpet"
                      }
                    ],
                    "scattergeo": [
                      {
                        "marker": {
                          "colorbar": {
                            "outlinewidth": 0,
                            "ticks": ""
                          }
                        },
                        "type": "scattergeo"
                      }
                    ],
                    "scattergl": [
                      {
                        "marker": {
                          "colorbar": {
                            "outlinewidth": 0,
                            "ticks": ""
                          }
                        },
                        "type": "scattergl"
                      }
                    ],
                    "scattermapbox": [
                      {
                        "marker": {
                          "colorbar": {
                            "outlinewidth": 0,
                            "ticks": ""
                          }
                        },
                        "type": "scattermapbox"
                      }
                    ],
                    "scatterpolar": [
                      {
                        "marker": {
                          "colorbar": {
                            "outlinewidth": 0,
                            "ticks": ""
                          }
                        },
                        "type": "scatterpolar"
                      }
                    ],
                    "scatterpolargl": [
                      {
                        "marker": {
                          "colorbar": {
                            "outlinewidth": 0,
                            "ticks": ""
                          }
                        },
                        "type": "scatterpolargl"
                      }
                    ],
                    "scatterternary": [
                      {
                        "marker": {
                          "colorbar": {
                            "outlinewidth": 0,
                            "ticks": ""
                          }
                        },
                        "type": "scatterternary"
                      }
                    ],
                    "surface": [
                      {
                        "colorbar": {
                          "outlinewidth": 0,
                          "ticks": ""
                        },
                        "colorscale": [
                          [
                            0,
                            "#0d0887"
                          ],
                          [
                            0.1111111111111111,
                            "#46039f"
                          ],
                          [
                            0.2222222222222222,
                            "#7201a8"
                          ],
                          [
                            0.3333333333333333,
                            "#9c179e"
                          ],
                          [
                            0.4444444444444444,
                            "#bd3786"
                          ],
                          [
                            0.5555555555555556,
                            "#d8576b"
                          ],
                          [
                            0.6666666666666666,
                            "#ed7953"
                          ],
                          [
                            0.7777777777777778,
                            "#fb9f3a"
                          ],
                          [
                            0.8888888888888888,
                            "#fdca26"
                          ],
                          [
                            1,
                            "#f0f921"
                          ]
                        ],
                        "type": "surface"
                      }
                    ],
                    "table": [
                      {
                        "cells": {
                          "fill": {
                            "color": "#EBF0F8"
                          },
                          "line": {
                            "color": "white"
                          }
                        },
                        "header": {
                          "fill": {
                            "color": "#C8D4E3"
                          },
                          "line": {
                            "color": "white"
                          }
                        },
                        "type": "table"
                      }
                    ]
                  },
                  "layout": {
                    "annotationdefaults": {
                      "arrowcolor": "#2a3f5f",
                      "arrowhead": 0,
                      "arrowwidth": 1
                    },
                    "autotypenumbers": "strict",
                    "coloraxis": {
                      "colorbar": {
                        "outlinewidth": 0,
                        "ticks": ""
                      }
                    },
                    "colorscale": {
                      "diverging": [
                        [
                          0,
                          "#8e0152"
                        ],
                        [
                          0.1,
                          "#c51b7d"
                        ],
                        [
                          0.2,
                          "#de77ae"
                        ],
                        [
                          0.3,
                          "#f1b6da"
                        ],
                        [
                          0.4,
                          "#fde0ef"
                        ],
                        [
                          0.5,
                          "#f7f7f7"
                        ],
                        [
                          0.6,
                          "#e6f5d0"
                        ],
                        [
                          0.7,
                          "#b8e186"
                        ],
                        [
                          0.8,
                          "#7fbc41"
                        ],
                        [
                          0.9,
                          "#4d9221"
                        ],
                        [
                          1,
                          "#276419"
                        ]
                      ],
                      "sequential": [
                        [
                          0,
                          "#0d0887"
                        ],
                        [
                          0.1111111111111111,
                          "#46039f"
                        ],
                        [
                          0.2222222222222222,
                          "#7201a8"
                        ],
                        [
                          0.3333333333333333,
                          "#9c179e"
                        ],
                        [
                          0.4444444444444444,
                          "#bd3786"
                        ],
                        [
                          0.5555555555555556,
                          "#d8576b"
                        ],
                        [
                          0.6666666666666666,
                          "#ed7953"
                        ],
                        [
                          0.7777777777777778,
                          "#fb9f3a"
                        ],
                        [
                          0.8888888888888888,
                          "#fdca26"
                        ],
                        [
                          1,
                          "#f0f921"
                        ]
                      ],
                      "sequentialminus": [
                        [
                          0,
                          "#0d0887"
                        ],
                        [
                          0.1111111111111111,
                          "#46039f"
                        ],
                        [
                          0.2222222222222222,
                          "#7201a8"
                        ],
                        [
                          0.3333333333333333,
                          "#9c179e"
                        ],
                        [
                          0.4444444444444444,
                          "#bd3786"
                        ],
                        [
                          0.5555555555555556,
                          "#d8576b"
                        ],
                        [
                          0.6666666666666666,
                          "#ed7953"
                        ],
                        [
                          0.7777777777777778,
                          "#fb9f3a"
                        ],
                        [
                          0.8888888888888888,
                          "#fdca26"
                        ],
                        [
                          1,
                          "#f0f921"
                        ]
                      ]
                    },
                    "colorway": [
                      "#636efa",
                      "#EF553B",
                      "#00cc96",
                      "#ab63fa",
                      "#FFA15A",
                      "#19d3f3",
                      "#FF6692",
                      "#B6E880",
                      "#FF97FF",
                      "#FECB52"
                    ],
                    "font": {
                      "color": "#2a3f5f"
                    },
                    "geo": {
                      "bgcolor": "white",
                      "lakecolor": "white",
                      "landcolor": "#E5ECF6",
                      "showlakes": true,
                      "showland": true,
                      "subunitcolor": "white"
                    },
                    "hoverlabel": {
                      "align": "left"
                    },
                    "hovermode": "closest",
                    "mapbox": {
                      "style": "light"
                    },
                    "paper_bgcolor": "white",
                    "plot_bgcolor": "#E5ECF6",
                    "polar": {
                      "angularaxis": {
                        "gridcolor": "white",
                        "linecolor": "white",
                        "ticks": ""
                      },
                      "bgcolor": "#E5ECF6",
                      "radialaxis": {
                        "gridcolor": "white",
                        "linecolor": "white",
                        "ticks": ""
                      }
                    },
                    "scene": {
                      "xaxis": {
                        "backgroundcolor": "#E5ECF6",
                        "gridcolor": "white",
                        "gridwidth": 2,
                        "linecolor": "white",
                        "showbackground": true,
                        "ticks": "",
                        "zerolinecolor": "white"
                      },
                      "yaxis": {
                        "backgroundcolor": "#E5ECF6",
                        "gridcolor": "white",
                        "gridwidth": 2,
                        "linecolor": "white",
                        "showbackground": true,
                        "ticks": "",
                        "zerolinecolor": "white"
                      },
                      "zaxis": {
                        "backgroundcolor": "#E5ECF6",
                        "gridcolor": "white",
                        "gridwidth": 2,
                        "linecolor": "white",
                        "showbackground": true,
                        "ticks": "",
                        "zerolinecolor": "white"
                      }
                    },
                    "shapedefaults": {
                      "line": {
                        "color": "#2a3f5f"
                      }
                    },
                    "ternary": {
                      "aaxis": {
                        "gridcolor": "white",
                        "linecolor": "white",
                        "ticks": ""
                      },
                      "baxis": {
                        "gridcolor": "white",
                        "linecolor": "white",
                        "ticks": ""
                      },
                      "bgcolor": "#E5ECF6",
                      "caxis": {
                        "gridcolor": "white",
                        "linecolor": "white",
                        "ticks": ""
                      }
                    },
                    "title": {
                      "x": 0.05
                    },
                    "xaxis": {
                      "automargin": true,
                      "gridcolor": "white",
                      "linecolor": "white",
                      "ticks": "",
                      "title": {
                        "standoff": 15
                      },
                      "zerolinecolor": "white",
                      "zerolinewidth": 2
                    },
                    "yaxis": {
                      "automargin": true,
                      "gridcolor": "white",
                      "linecolor": "white",
                      "ticks": "",
                      "title": {
                        "standoff": 15
                      },
                      "zerolinecolor": "white",
                      "zerolinewidth": 2
                    }
                  }
                },
                "title": {
                  "text": "Actual vs Predicted Prices (Test Set)"
                },
                "xaxis": {
                  "anchor": "y",
                  "domain": [
                    0,
                    1
                  ],
                  "title": {
                    "text": "Actual Price Scaled"
                  }
                },
                "yaxis": {
                  "anchor": "x",
                  "domain": [
                    0,
                    1
                  ],
                  "title": {
                    "text": "Predicted Price Scaled"
                  }
                }
              }
            }
          },
          "metadata": {},
          "output_type": "display_data"
        }
      ],
      "source": [
        "fig_test = px.scatter(\n",
        "    x=y_test, \n",
        "    y=y_pred_test,\n",
        "    opacity=0.6,\n",
        "    color_discrete_sequence=[\"red\"], \n",
        "    labels={\"x\": \"Actual Price Scaled\", \"y\": \"Predicted Price Scaled\"},\n",
        "    title=\"Actual vs Predicted Prices (Test Set)\"\n",
        ")\n",
        "\n",
        "# Add perfect prediction line\n",
        "fig_test.add_trace(\n",
        "    go.Scatter(\n",
        "        x=[y_test.min(), y_test.max()],\n",
        "        y=[y_test.min(), y_test.max()],\n",
        "        mode=\"lines\",\n",
        "        line=dict(color=\"black\", dash=\"dash\"),\n",
        "        name=\"Perfect Prediction\"\n",
        "    )\n",
        ")"
      ]
    },
    {
      "cell_type": "code",
      "execution_count": 559,
      "metadata": {},
      "outputs": [
        {
          "data": {
            "text/html": [
              "\n",
              "        <iframe\n",
              "            width=\"100%\"\n",
              "            height=\"650\"\n",
              "            src=\"http://127.0.0.1:8050/\"\n",
              "            frameborder=\"0\"\n",
              "            allowfullscreen\n",
              "            \n",
              "        ></iframe>\n",
              "        "
            ],
            "text/plain": [
              "<IPython.lib.display.IFrame at 0x146c9240e90>"
            ]
          },
          "metadata": {},
          "output_type": "display_data"
        }
      ],
      "source": [
        "app = dash.Dash(__name__)\n",
        "app.layout = html.Div([\n",
        "\n",
        "    html.H1(\"Housing Prices Dataset\", style={\"textAlign\": \"center\", \"color\": \"cyan\", 'font-family': 'Arial'}),\n",
        "\n",
        "    html.H2(\"Normal Visuallizations\", style={\"color\": \"cyan\"}),\n",
        "\n",
        "    dcc.Dropdown(\n",
        "        id=\"visual-dropdown\",\n",
        "        options=[\n",
        "            {\"label\": \"Area Histogram\", \"value\": \"hist1\"},\n",
        "            {\"label\": \"Price Histogram\", \"value\": \"hist2\"},\n",
        "            {\"label\": \"Parking Histogram\", \"value\": \"hist3\"},\n",
        "            {\"label\": \"Stories Histogram\", \"value\": \"hist4\"},\n",
        "            {\"label\": \"Bedrooms Histogram\", \"value\": \"hist5\"},\n",
        "            {\"label\": \"Bathrooms Histogram\", \"value\": \"hist6\"},\n",
        "            {\"label\": \"Features Heatmap\", \"value\": \"hmap\"},\n",
        "        ],\n",
        "        value=\"hist1\",\n",
        "        clearable=False,\n",
        "    ),\n",
        "\n",
        "    dcc.Graph(id=\"visual-output\"),\n",
        "\n",
        "    html.H2(\"Result Plots\", style={\"color\": \"cyan\"}),\n",
        "\n",
        "    dcc.Graph(figure=fig_valid),\n",
        "    \n",
        "    dcc.Graph(figure=fig_test)\n",
        "\n",
        "    ])\n",
        "    \n",
        "\n",
        "@app.callback(\n",
        "    Output(\"visual-output\", \"figure\"),\n",
        "    Input(\"visual-dropdown\", \"value\")\n",
        ")\n",
        "\n",
        "def update_graph(selected_plot):\n",
        "    if selected_plot == \"hist1\":\n",
        "        return area_hist\n",
        "    elif selected_plot == \"hist2\":\n",
        "        return price_hist\n",
        "    elif selected_plot == \"hist3\":\n",
        "        return parking_hist\n",
        "    elif selected_plot == \"hist4\":\n",
        "        return stories_hist\n",
        "    elif selected_plot == \"hist5\":\n",
        "        return bedrooms_hist\n",
        "    elif selected_plot == \"hist6\":\n",
        "        return bathrooms_hist\n",
        "    elif selected_plot == \"hmap\":\n",
        "        return heatmap\n",
        "\n",
        "if __name__ == \"__main__\":\n",
        "    app.run(debug=True)\n"
      ]
    }
  ],
  "metadata": {
    "colab": {
      "provenance": []
    },
    "kernelspec": {
      "display_name": "base",
      "language": "python",
      "name": "python3"
    },
    "language_info": {
      "codemirror_mode": {
        "name": "ipython",
        "version": 3
      },
      "file_extension": ".py",
      "mimetype": "text/x-python",
      "name": "python",
      "nbconvert_exporter": "python",
      "pygments_lexer": "ipython3",
      "version": "3.11.7"
    }
  },
  "nbformat": 4,
  "nbformat_minor": 0
}
